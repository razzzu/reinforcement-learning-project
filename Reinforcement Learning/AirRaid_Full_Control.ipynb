{
 "cells": [
  {
   "cell_type": "code",
   "execution_count": 1,
   "metadata": {
    "colab": {
     "base_uri": "https://localhost:8080/",
     "height": 1000
    },
    "colab_type": "code",
    "id": "iVwFMKGWt1sz",
    "outputId": "46639969-fdd9-49b5-8eee-b6d89049da75"
   },
   "outputs": [
    {
     "name": "stdout",
     "output_type": "stream",
     "text": [
      "Collecting keras-rl\n",
      "\u001b[?25l  Downloading https://files.pythonhosted.org/packages/ab/87/4b57eff8e4bd834cea0a75cd6c58198c9e42be29b600db9c14fafa72ec07/keras-rl-0.4.2.tar.gz (40kB)\n",
      "\r",
      "\u001b[K     |████████                        | 10kB 26.1MB/s eta 0:00:01\r",
      "\u001b[K     |████████████████▏               | 20kB 3.2MB/s eta 0:00:01\r",
      "\u001b[K     |████████████████████████▎       | 30kB 4.6MB/s eta 0:00:01\r",
      "\u001b[K     |████████████████████████████████| 40kB 3.1MB/s \n",
      "\u001b[?25hRequirement already satisfied: keras>=2.0.7 in /usr/local/lib/python3.6/dist-packages (from keras-rl) (2.2.5)\n",
      "Requirement already satisfied: numpy>=1.9.1 in /usr/local/lib/python3.6/dist-packages (from keras>=2.0.7->keras-rl) (1.17.4)\n",
      "Requirement already satisfied: scipy>=0.14 in /usr/local/lib/python3.6/dist-packages (from keras>=2.0.7->keras-rl) (1.3.2)\n",
      "Requirement already satisfied: six>=1.9.0 in /usr/local/lib/python3.6/dist-packages (from keras>=2.0.7->keras-rl) (1.12.0)\n",
      "Requirement already satisfied: h5py in /usr/local/lib/python3.6/dist-packages (from keras>=2.0.7->keras-rl) (2.8.0)\n",
      "Requirement already satisfied: pyyaml in /usr/local/lib/python3.6/dist-packages (from keras>=2.0.7->keras-rl) (3.13)\n",
      "Requirement already satisfied: keras-preprocessing>=1.1.0 in /usr/local/lib/python3.6/dist-packages (from keras>=2.0.7->keras-rl) (1.1.0)\n",
      "Requirement already satisfied: keras-applications>=1.0.8 in /usr/local/lib/python3.6/dist-packages (from keras>=2.0.7->keras-rl) (1.0.8)\n",
      "Building wheels for collected packages: keras-rl\n",
      "  Building wheel for keras-rl (setup.py) ... \u001b[?25l\u001b[?25hdone\n",
      "  Created wheel for keras-rl: filename=keras_rl-0.4.2-cp36-none-any.whl size=48379 sha256=15a7bf1c08c1d20ea19a4d341395a8e4e10b7a2d05bc6bbfb4eb92ca61ca83f5\n",
      "  Stored in directory: /root/.cache/pip/wheels/7d/4d/84/9254c9f2e8f51865cb0dac8e79da85330c735551d31f73c894\n",
      "Successfully built keras-rl\n",
      "Installing collected packages: keras-rl\n",
      "Successfully installed keras-rl-0.4.2\n",
      "Collecting keras==2.2.4\n",
      "\u001b[?25l  Downloading https://files.pythonhosted.org/packages/5e/10/aa32dad071ce52b5502266b5c659451cfd6ffcbf14e6c8c4f16c0ff5aaab/Keras-2.2.4-py2.py3-none-any.whl (312kB)\n",
      "\u001b[K     |████████████████████████████████| 317kB 4.9MB/s \n",
      "\u001b[?25hRequirement already satisfied: numpy>=1.9.1 in /usr/local/lib/python3.6/dist-packages (from keras==2.2.4) (1.17.4)\n",
      "Requirement already satisfied: keras-applications>=1.0.6 in /usr/local/lib/python3.6/dist-packages (from keras==2.2.4) (1.0.8)\n",
      "Requirement already satisfied: scipy>=0.14 in /usr/local/lib/python3.6/dist-packages (from keras==2.2.4) (1.3.2)\n",
      "Requirement already satisfied: keras-preprocessing>=1.0.5 in /usr/local/lib/python3.6/dist-packages (from keras==2.2.4) (1.1.0)\n",
      "Requirement already satisfied: h5py in /usr/local/lib/python3.6/dist-packages (from keras==2.2.4) (2.8.0)\n",
      "Requirement already satisfied: six>=1.9.0 in /usr/local/lib/python3.6/dist-packages (from keras==2.2.4) (1.12.0)\n",
      "Requirement already satisfied: pyyaml in /usr/local/lib/python3.6/dist-packages (from keras==2.2.4) (3.13)\n",
      "Installing collected packages: keras\n",
      "  Found existing installation: Keras 2.2.5\n",
      "    Uninstalling Keras-2.2.5:\n",
      "      Successfully uninstalled Keras-2.2.5\n",
      "Successfully installed keras-2.2.4\n",
      "Collecting tensorflow-gpu==1.13.1\n",
      "\u001b[?25l  Downloading https://files.pythonhosted.org/packages/7b/b1/0ad4ae02e17ddd62109cd54c291e311c4b5fd09b4d0678d3d6ce4159b0f0/tensorflow_gpu-1.13.1-cp36-cp36m-manylinux1_x86_64.whl (345.2MB)\n",
      "\u001b[K     |████████████████████████████████| 345.2MB 45kB/s \n",
      "\u001b[?25hRequirement already satisfied: keras-preprocessing>=1.0.5 in /usr/local/lib/python3.6/dist-packages (from tensorflow-gpu==1.13.1) (1.1.0)\n",
      "Requirement already satisfied: wheel>=0.26 in /usr/local/lib/python3.6/dist-packages (from tensorflow-gpu==1.13.1) (0.33.6)\n",
      "Requirement already satisfied: gast>=0.2.0 in /usr/local/lib/python3.6/dist-packages (from tensorflow-gpu==1.13.1) (0.2.2)\n",
      "Requirement already satisfied: keras-applications>=1.0.6 in /usr/local/lib/python3.6/dist-packages (from tensorflow-gpu==1.13.1) (1.0.8)\n",
      "Requirement already satisfied: termcolor>=1.1.0 in /usr/local/lib/python3.6/dist-packages (from tensorflow-gpu==1.13.1) (1.1.0)\n",
      "Requirement already satisfied: six>=1.10.0 in /usr/local/lib/python3.6/dist-packages (from tensorflow-gpu==1.13.1) (1.12.0)\n",
      "Requirement already satisfied: absl-py>=0.1.6 in /usr/local/lib/python3.6/dist-packages (from tensorflow-gpu==1.13.1) (0.8.1)\n",
      "Requirement already satisfied: numpy>=1.13.3 in /usr/local/lib/python3.6/dist-packages (from tensorflow-gpu==1.13.1) (1.17.4)\n",
      "Requirement already satisfied: protobuf>=3.6.1 in /usr/local/lib/python3.6/dist-packages (from tensorflow-gpu==1.13.1) (3.10.0)\n",
      "Collecting tensorboard<1.14.0,>=1.13.0\n",
      "\u001b[?25l  Downloading https://files.pythonhosted.org/packages/0f/39/bdd75b08a6fba41f098b6cb091b9e8c7a80e1b4d679a581a0ccd17b10373/tensorboard-1.13.1-py3-none-any.whl (3.2MB)\n",
      "\u001b[K     |████████████████████████████████| 3.2MB 36.7MB/s \n",
      "\u001b[?25hCollecting tensorflow-estimator<1.14.0rc0,>=1.13.0\n",
      "\u001b[?25l  Downloading https://files.pythonhosted.org/packages/bb/48/13f49fc3fa0fdf916aa1419013bb8f2ad09674c275b4046d5ee669a46873/tensorflow_estimator-1.13.0-py2.py3-none-any.whl (367kB)\n",
      "\u001b[K     |████████████████████████████████| 368kB 49.9MB/s \n",
      "\u001b[?25hRequirement already satisfied: grpcio>=1.8.6 in /usr/local/lib/python3.6/dist-packages (from tensorflow-gpu==1.13.1) (1.15.0)\n",
      "Requirement already satisfied: astor>=0.6.0 in /usr/local/lib/python3.6/dist-packages (from tensorflow-gpu==1.13.1) (0.8.0)\n",
      "Requirement already satisfied: h5py in /usr/local/lib/python3.6/dist-packages (from keras-applications>=1.0.6->tensorflow-gpu==1.13.1) (2.8.0)\n",
      "Requirement already satisfied: setuptools in /usr/local/lib/python3.6/dist-packages (from protobuf>=3.6.1->tensorflow-gpu==1.13.1) (41.6.0)\n",
      "Requirement already satisfied: markdown>=2.6.8 in /usr/local/lib/python3.6/dist-packages (from tensorboard<1.14.0,>=1.13.0->tensorflow-gpu==1.13.1) (3.1.1)\n",
      "Requirement already satisfied: werkzeug>=0.11.15 in /usr/local/lib/python3.6/dist-packages (from tensorboard<1.14.0,>=1.13.0->tensorflow-gpu==1.13.1) (0.16.0)\n",
      "Collecting mock>=2.0.0\n",
      "  Downloading https://files.pythonhosted.org/packages/05/d2/f94e68be6b17f46d2c353564da56e6fb89ef09faeeff3313a046cb810ca9/mock-3.0.5-py2.py3-none-any.whl\n",
      "\u001b[31mERROR: tensorflow 1.15.0 has requirement tensorboard<1.16.0,>=1.15.0, but you'll have tensorboard 1.13.1 which is incompatible.\u001b[0m\n",
      "\u001b[31mERROR: tensorflow 1.15.0 has requirement tensorflow-estimator==1.15.1, but you'll have tensorflow-estimator 1.13.0 which is incompatible.\u001b[0m\n",
      "Installing collected packages: tensorboard, mock, tensorflow-estimator, tensorflow-gpu\n",
      "  Found existing installation: tensorboard 1.15.0\n",
      "    Uninstalling tensorboard-1.15.0:\n",
      "      Successfully uninstalled tensorboard-1.15.0\n",
      "  Found existing installation: tensorflow-estimator 1.15.1\n",
      "    Uninstalling tensorflow-estimator-1.15.1:\n",
      "      Successfully uninstalled tensorflow-estimator-1.15.1\n",
      "Successfully installed mock-3.0.5 tensorboard-1.13.1 tensorflow-estimator-1.13.0 tensorflow-gpu-1.13.1\n"
     ]
    }
   ],
   "source": [
    "#!apt-get install -y xvfb python-opengl > /dev/null 2>&1\n",
    "#!pip install gym pyvirtualdisplay > /dev/null 2>&1\n",
    "#!apt-get install x11-utils\n",
    "!pip install keras-rl\n",
    "!pip install keras==2.2.4\n",
    "!pip install tensorflow-gpu==1.13.1 "
   ]
  },
  {
   "cell_type": "code",
   "execution_count": 1,
   "metadata": {
    "colab": {
     "base_uri": "https://localhost:8080/",
     "height": 365
    },
    "colab_type": "code",
    "id": "9RSYAXAjt83R",
    "outputId": "099c03f2-4d54-498b-fac8-d0599a6c415b"
   },
   "outputs": [
    {
     "name": "stderr",
     "output_type": "stream",
     "text": [
      "Using TensorFlow backend.\n"
     ]
    },
    {
     "name": "stdout",
     "output_type": "stream",
     "text": [
      "2.2.4\n",
      "1.13.1\n"
     ]
    }
   ],
   "source": [
    "from __future__ import division\n",
    "import gym\n",
    "import atari_py\n",
    "from PIL import Image\n",
    "import numpy as np\n",
    "import keras\n",
    "import tensorflow as tf\n",
    "\n",
    "from keras.models import Sequential\n",
    "from keras.layers import Dense, Activation, Flatten, Convolution2D, Permute\n",
    "from keras.optimizers import Adam\n",
    "import keras.backend as K\n",
    "\n",
    "from rl.agents.dqn import DQNAgent\n",
    "from rl.policy import LinearAnnealedPolicy, BoltzmannQPolicy, EpsGreedyQPolicy\n",
    "from rl.memory import SequentialMemory\n",
    "from rl.core import Processor\n",
    "#print(atari_py.list_games())\n",
    "\n",
    "print(keras.__version__)\n",
    "print(tf.__version__)"
   ]
  },
  {
   "cell_type": "code",
   "execution_count": 2,
   "metadata": {
    "colab": {},
    "colab_type": "code",
    "id": "RD7yq62q1a4V"
   },
   "outputs": [],
   "source": [
    "INPUT_SHAPE = (84, 84)\n",
    "WINDOW_LENGTH = 4\n",
    "\n",
    "class AtariProcessor(Processor):\n",
    "    def process_observation(self, observation):\n",
    "        assert observation.ndim == 3  # (height, width, channel)\n",
    "        img = Image.fromarray(observation)\n",
    "        img = img.resize(INPUT_SHAPE).convert('L')  # resize and convert to grayscale\n",
    "        processed_observation = np.array(img)\n",
    "        assert processed_observation.shape == INPUT_SHAPE\n",
    "        return processed_observation.astype('float32')/255 \n",
    "\n",
    "    #def process_reward(self, reward):\n",
    "     #   return np.clip(reward, -1., 1.)"
   ]
  },
  {
   "cell_type": "code",
   "execution_count": 3,
   "metadata": {
    "colab": {
     "base_uri": "https://localhost:8080/",
     "height": 34
    },
    "colab_type": "code",
    "id": "6ezTP1w7uG1Q",
    "outputId": "1b6dae7d-7704-4cc3-db94-b9df9754ae8d"
   },
   "outputs": [],
   "source": [
    "#game = 'Freeway-v0' #3\n",
    "#game = 'BeamRider-v0' #9\n",
    "#game = 'Centipede-v0' #18\n",
    "#game = 'DemonAttack-v0' #6\n",
    "game = 'AirRaid-v0' #6\n",
    "\n",
    "env = gym.make(game, full_action_space=True)\n",
    "np.random.seed(123)\n",
    "env.seed(123)\n",
    "#env.reset()\n",
    "nb_actions = env.action_space.n\n",
    "#print(nb_actions)"
   ]
  },
  {
   "cell_type": "code",
   "execution_count": 4,
   "metadata": {
    "colab": {
     "base_uri": "https://localhost:8080/",
     "height": 580
    },
    "colab_type": "code",
    "id": "lmkHFMiT1hRo",
    "outputId": "291d508f-aee4-44f8-99d4-05d774205d79"
   },
   "outputs": [
    {
     "name": "stdout",
     "output_type": "stream",
     "text": [
      "WARNING:tensorflow:From D:\\Anaconda\\lib\\site-packages\\tensorflow\\python\\framework\\op_def_library.py:263: colocate_with (from tensorflow.python.framework.ops) is deprecated and will be removed in a future version.\n",
      "Instructions for updating:\n",
      "Colocations handled automatically by placer.\n",
      "_________________________________________________________________\n",
      "Layer (type)                 Output Shape              Param #   \n",
      "=================================================================\n",
      "permute_1 (Permute)          (None, 84, 84, 4)         0         \n",
      "_________________________________________________________________\n",
      "conv2d_1 (Conv2D)            (None, 20, 20, 32)        8224      \n",
      "_________________________________________________________________\n",
      "conv2d_2 (Conv2D)            (None, 9, 9, 64)          32832     \n",
      "_________________________________________________________________\n",
      "conv2d_3 (Conv2D)            (None, 7, 7, 64)          36928     \n",
      "_________________________________________________________________\n",
      "flatten_1 (Flatten)          (None, 3136)              0         \n",
      "_________________________________________________________________\n",
      "dense_1 (Dense)              (None, 512)               1606144   \n",
      "_________________________________________________________________\n",
      "dense_2 (Dense)              (None, 18)                9234      \n",
      "=================================================================\n",
      "Total params: 1,693,362\n",
      "Trainable params: 1,693,362\n",
      "Non-trainable params: 0\n",
      "_________________________________________________________________\n",
      "None\n"
     ]
    }
   ],
   "source": [
    "input_shape = (WINDOW_LENGTH,) + INPUT_SHAPE\n",
    "model = Sequential()\n",
    "if K.image_dim_ordering() == 'tf':\n",
    "    # (width, height, channels)\n",
    "    model.add(Permute((2, 3, 1), input_shape=input_shape))\n",
    "elif K.image_dim_ordering() == 'th':\n",
    "    # (channels, width, height)\n",
    "    model.add(Permute((1, 2, 3), input_shape=input_shape))\n",
    "else:\n",
    "    raise RuntimeError('Unknown image_dim_ordering.')\n",
    "    \n",
    "model.add(Convolution2D(32, (8, 8), strides=(4, 4), activation = 'relu'))\n",
    "model.add(Convolution2D(64, (4, 4), strides=(2, 2), activation = 'relu'))\n",
    "model.add(Convolution2D(64, (3, 3), strides=(1, 1), activation = 'relu'))\n",
    "model.add(Flatten())\n",
    "model.add(Dense(512, activation = 'relu'))\n",
    "model.add(Dense(nb_actions, activation = 'linear'))\n",
    "\n",
    "print(model.summary())"
   ]
  },
  {
   "cell_type": "code",
   "execution_count": 5,
   "metadata": {
    "colab": {},
    "colab_type": "code",
    "id": "3AjfEABouNNG"
   },
   "outputs": [],
   "source": [
    "memory = SequentialMemory(limit=1000000, window_length=WINDOW_LENGTH)\n",
    "processor = AtariProcessor()\n",
    "\n",
    "policy = LinearAnnealedPolicy(EpsGreedyQPolicy(), attr='eps', value_max=1., value_min=.1, value_test=.05, nb_steps=100000)\n",
    "\n",
    "dqn = DQNAgent(model=model, nb_actions=nb_actions, policy=policy, memory=memory, processor=processor, nb_steps_warmup=50000, target_model_update=10000,train_interval=4)\n",
    "dqn.compile(Adam(lr=.00025), metrics=['mae'])\n"
   ]
  },
  {
   "cell_type": "code",
   "execution_count": 24,
   "metadata": {
    "colab": {
     "base_uri": "https://localhost:8080/",
     "height": 1000
    },
    "colab_type": "code",
    "id": "_SEjoTV2uQWC",
    "outputId": "edaf6fa9-66fa-4e77-ea9c-d4aabcc5c4d8"
   },
   "outputs": [
    {
     "name": "stdout",
     "output_type": "stream",
     "text": [
      "Training for 200000 steps ...\n",
      "Interval 1 (0 steps performed)\n",
      "10000/10000 [==============================] - 26s 3ms/step - reward: 0.8125\n",
      "14 episodes - episode_reward: 553.571 [150.000, 1325.000] - ale.lives: 0.999\n",
      "\n",
      "Interval 2 (10000 steps performed)\n",
      "10000/10000 [==============================] - 26s 3ms/step - reward: 0.8600\n",
      "14 episodes - episode_reward: 605.357 [175.000, 1475.000] - ale.lives: 0.999\n",
      "\n",
      "Interval 3 (20000 steps performed)\n",
      "10000/10000 [==============================] - 26s 3ms/step - reward: 0.9325\n",
      "20 episodes - episode_reward: 483.750 [225.000, 825.000] - ale.lives: 0.998\n",
      "\n",
      "Interval 4 (30000 steps performed)\n",
      "10000/10000 [==============================] - 27s 3ms/step - reward: 0.9900\n",
      "24 episodes - episode_reward: 414.583 [150.000, 950.000] - ale.lives: 0.998\n",
      "\n",
      "Interval 5 (40000 steps performed)\n",
      "10000/10000 [==============================] - 26s 3ms/step - reward: 0.8950\n",
      "26 episodes - episode_reward: 344.231 [75.000, 1300.000] - ale.lives: 0.997\n",
      "\n",
      "Interval 6 (50000 steps performed)\n",
      "10000/10000 [==============================] - 64s 6ms/step - reward: 0.8750\n",
      "22 episodes - episode_reward: 378.409 [125.000, 1050.000] - loss: 31.710 - mean_absolute_error: 16.226 - mean_q: 18.990 - mean_eps: 0.505 - ale.lives: 0.998\n",
      "\n",
      "Interval 7 (60000 steps performed)\n",
      "10000/10000 [==============================] - 64s 6ms/step - reward: 0.8050\n",
      "24 episodes - episode_reward: 355.208 [75.000, 925.000] - loss: 33.130 - mean_absolute_error: 18.225 - mean_q: 21.173 - mean_eps: 0.415 - ale.lives: 0.998\n",
      "\n",
      "Interval 8 (70000 steps performed)\n",
      "10000/10000 [==============================] - 65s 6ms/step - reward: 0.7675\n",
      "21 episodes - episode_reward: 342.857 [50.000, 700.000] - loss: 31.421 - mean_absolute_error: 19.044 - mean_q: 21.877 - mean_eps: 0.325 - ale.lives: 0.998\n",
      "\n",
      "Interval 9 (80000 steps performed)\n",
      "10000/10000 [==============================] - 64s 6ms/step - reward: 1.0100\n",
      "22 episodes - episode_reward: 475.000 [125.000, 1675.000] - loss: 32.001 - mean_absolute_error: 20.575 - mean_q: 23.531 - mean_eps: 0.235 - ale.lives: 0.998\n",
      "\n",
      "Interval 10 (90000 steps performed)\n",
      "10000/10000 [==============================] - 64s 6ms/step - reward: 0.7400\n",
      "17 episodes - episode_reward: 394.118 [75.000, 1575.000] - loss: 33.857 - mean_absolute_error: 21.458 - mean_q: 24.420 - mean_eps: 0.145 - ale.lives: 0.998\n",
      "\n",
      "Interval 11 (100000 steps performed)\n",
      "10000/10000 [==============================] - 65s 6ms/step - reward: 0.8300\n",
      "19 episodes - episode_reward: 473.684 [150.000, 1425.000] - loss: 32.350 - mean_absolute_error: 21.968 - mean_q: 24.904 - mean_eps: 0.100 - ale.lives: 0.998\n",
      "\n",
      "Interval 12 (110000 steps performed)\n",
      "10000/10000 [==============================] - 64s 6ms/step - reward: 0.8000\n",
      "27 episodes - episode_reward: 301.852 [0.000, 1225.000] - loss: 31.782 - mean_absolute_error: 23.746 - mean_q: 26.892 - mean_eps: 0.100 - ale.lives: 0.997\n",
      "\n",
      "Interval 13 (120000 steps performed)\n",
      "10000/10000 [==============================] - 65s 7ms/step - reward: 0.8950\n",
      "28 episodes - episode_reward: 316.964 [0.000, 800.000] - loss: 31.443 - mean_absolute_error: 24.312 - mean_q: 27.557 - mean_eps: 0.100 - ale.lives: 0.997\n",
      "\n",
      "Interval 14 (130000 steps performed)\n",
      "10000/10000 [==============================] - 64s 6ms/step - reward: 0.8400\n",
      "27 episodes - episode_reward: 311.111 [50.000, 1275.000] - loss: 31.657 - mean_absolute_error: 25.259 - mean_q: 28.606 - mean_eps: 0.100 - ale.lives: 0.997\n",
      "\n",
      "Interval 15 (140000 steps performed)\n",
      "10000/10000 [==============================] - 64s 6ms/step - reward: 0.7625\n",
      "18 episodes - episode_reward: 423.611 [50.000, 1150.000] - loss: 35.088 - mean_absolute_error: 26.370 - mean_q: 29.845 - mean_eps: 0.100 - ale.lives: 0.998\n",
      "\n",
      "Interval 16 (150000 steps performed)\n",
      "10000/10000 [==============================] - 64s 6ms/step - reward: 0.9400\n",
      "24 episodes - episode_reward: 395.833 [50.000, 925.000] - loss: 34.004 - mean_absolute_error: 27.939 - mean_q: 31.508 - mean_eps: 0.100 - ale.lives: 0.998\n",
      "\n",
      "Interval 17 (160000 steps performed)\n",
      "10000/10000 [==============================] - 64s 6ms/step - reward: 0.9200\n",
      "19 episodes - episode_reward: 484.211 [100.000, 1500.000] - loss: 33.368 - mean_absolute_error: 28.422 - mean_q: 31.983 - mean_eps: 0.100 - ale.lives: 0.998\n",
      "\n",
      "Interval 18 (170000 steps performed)\n",
      "10000/10000 [==============================] - 64s 6ms/step - reward: 0.8000\n",
      "13 episodes - episode_reward: 598.077 [0.000, 1725.000] - loss: 33.366 - mean_absolute_error: 29.184 - mean_q: 32.902 - mean_eps: 0.100 - ale.lives: 0.999\n",
      "\n",
      "Interval 19 (180000 steps performed)\n",
      "10000/10000 [==============================] - 64s 6ms/step - reward: 1.0400\n",
      "15 episodes - episode_reward: 671.667 [150.000, 2300.000] - loss: 34.431 - mean_absolute_error: 30.229 - mean_q: 33.966 - mean_eps: 0.100 - ale.lives: 0.999\n",
      "\n",
      "Interval 20 (190000 steps performed)\n",
      "10000/10000 [==============================] - 63s 6ms/step - reward: 0.8575\n",
      "done, took 1095.546 seconds\n"
     ]
    }
   ],
   "source": [
    "dqn.load_weights('DQN_'+game+'_weights_0')\n",
    "dqn.fit(env, nb_steps=200000, visualize=False, verbose=1)\n",
    "dqn.save_weights('DQN_'+game+'_weights',overwrite=True)"
   ]
  },
  {
   "cell_type": "code",
   "execution_count": 6,
   "metadata": {
    "colab": {
     "base_uri": "https://localhost:8080/",
     "height": 228
    },
    "colab_type": "code",
    "id": "37ZDS7-puSvl",
    "outputId": "f0946bf5-e61b-4211-f090-6175f75e0337"
   },
   "outputs": [
    {
     "name": "stdout",
     "output_type": "stream",
     "text": [
      "Testing for 10 episodes ...\n",
      "Episode 1: reward: 2625.000, steps: 2401\n",
      "Episode 2: reward: 5475.000, steps: 4418\n",
      "Episode 3: reward: 4700.000, steps: 4096\n",
      "Episode 4: reward: 2150.000, steps: 2512\n",
      "Episode 5: reward: 2225.000, steps: 2544\n",
      "Episode 6: reward: 3375.000, steps: 2970\n",
      "Episode 7: reward: 2300.000, steps: 2709\n",
      "Episode 8: reward: 3300.000, steps: 2990\n",
      "Episode 9: reward: 2125.000, steps: 2864\n",
      "Episode 10: reward: 2350.000, steps: 3006\n"
     ]
    }
   ],
   "source": [
    "dqn.load_weights('DQN_'+game+'_weights')\n",
    "history = dqn.test(env, nb_episodes=10, visualize=True)"
   ]
  },
  {
   "cell_type": "code",
   "execution_count": 7,
   "metadata": {
    "colab": {},
    "colab_type": "code",
    "id": "_2xG8AwbulgH"
   },
   "outputs": [],
   "source": [
    "env.close()"
   ]
  },
  {
   "cell_type": "code",
   "execution_count": 8,
   "metadata": {},
   "outputs": [
    {
     "name": "stdout",
     "output_type": "stream",
     "text": [
      "Testing for 100 episodes ...\n",
      "Episode 1: reward: 3575.000, steps: 2941\n",
      "Episode 2: reward: 2150.000, steps: 2452\n",
      "Episode 3: reward: 1775.000, steps: 2325\n",
      "Episode 4: reward: 3525.000, steps: 3770\n",
      "Episode 5: reward: 4175.000, steps: 3905\n",
      "Episode 6: reward: 2850.000, steps: 2752\n",
      "Episode 7: reward: 2500.000, steps: 2353\n",
      "Episode 8: reward: 1750.000, steps: 2451\n",
      "Episode 9: reward: 4875.000, steps: 4261\n",
      "Episode 10: reward: 2525.000, steps: 2867\n",
      "Episode 11: reward: 3000.000, steps: 2707\n",
      "Episode 12: reward: 4575.000, steps: 3609\n",
      "Episode 13: reward: 3775.000, steps: 3347\n",
      "Episode 14: reward: 5500.000, steps: 4483\n",
      "Episode 15: reward: 1650.000, steps: 2334\n",
      "Episode 16: reward: 3525.000, steps: 3160\n",
      "Episode 17: reward: 1150.000, steps: 1830\n",
      "Episode 18: reward: 2500.000, steps: 2415\n",
      "Episode 19: reward: 2775.000, steps: 3329\n",
      "Episode 20: reward: 1375.000, steps: 2483\n",
      "Episode 21: reward: 2525.000, steps: 2482\n",
      "Episode 22: reward: 2975.000, steps: 2917\n",
      "Episode 23: reward: 4325.000, steps: 3434\n",
      "Episode 24: reward: 3025.000, steps: 3368\n",
      "Episode 25: reward: 1950.000, steps: 2334\n",
      "Episode 26: reward: 2425.000, steps: 2918\n",
      "Episode 27: reward: 3075.000, steps: 3092\n",
      "Episode 28: reward: 4200.000, steps: 3529\n",
      "Episode 29: reward: 1850.000, steps: 2339\n",
      "Episode 30: reward: 2850.000, steps: 2420\n",
      "Episode 31: reward: 5325.000, steps: 4265\n",
      "Episode 32: reward: 2175.000, steps: 2387\n",
      "Episode 33: reward: 2750.000, steps: 2600\n",
      "Episode 34: reward: 2800.000, steps: 2563\n",
      "Episode 35: reward: 1150.000, steps: 1849\n",
      "Episode 36: reward: 2400.000, steps: 2802\n",
      "Episode 37: reward: 2350.000, steps: 2456\n",
      "Episode 38: reward: 3500.000, steps: 3329\n",
      "Episode 39: reward: 4675.000, steps: 3770\n",
      "Episode 40: reward: 2975.000, steps: 3163\n",
      "Episode 41: reward: 1700.000, steps: 1929\n",
      "Episode 42: reward: 2700.000, steps: 2496\n",
      "Episode 43: reward: 3475.000, steps: 2871\n",
      "Episode 44: reward: 3325.000, steps: 3073\n",
      "Episode 45: reward: 1950.000, steps: 2171\n",
      "Episode 46: reward: 3400.000, steps: 3163\n",
      "Episode 47: reward: 3275.000, steps: 2778\n",
      "Episode 48: reward: 900.000, steps: 1151\n",
      "Episode 49: reward: 3200.000, steps: 2840\n",
      "Episode 50: reward: 2100.000, steps: 2842\n",
      "Episode 51: reward: 3825.000, steps: 3387\n",
      "Episode 52: reward: 3125.000, steps: 3129\n",
      "Episode 53: reward: 2100.000, steps: 2765\n",
      "Episode 54: reward: 4275.000, steps: 3214\n",
      "Episode 55: reward: 2975.000, steps: 2977\n",
      "Episode 56: reward: 4375.000, steps: 3839\n",
      "Episode 57: reward: 3325.000, steps: 2814\n",
      "Episode 58: reward: 1050.000, steps: 1860\n",
      "Episode 59: reward: 5025.000, steps: 3632\n",
      "Episode 60: reward: 4375.000, steps: 3457\n",
      "Episode 61: reward: 2750.000, steps: 2652\n",
      "Episode 62: reward: 1750.000, steps: 1953\n",
      "Episode 63: reward: 1650.000, steps: 2284\n",
      "Episode 64: reward: 2550.000, steps: 2436\n",
      "Episode 65: reward: 1850.000, steps: 2445\n",
      "Episode 66: reward: 1600.000, steps: 2352\n",
      "Episode 67: reward: 4125.000, steps: 4004\n",
      "Episode 68: reward: 1725.000, steps: 2326\n",
      "Episode 69: reward: 2950.000, steps: 2917\n",
      "Episode 70: reward: 2125.000, steps: 2339\n",
      "Episode 71: reward: 4500.000, steps: 3925\n",
      "Episode 72: reward: 4225.000, steps: 3993\n",
      "Episode 73: reward: 2275.000, steps: 2148\n",
      "Episode 74: reward: 2725.000, steps: 2951\n",
      "Episode 75: reward: 3875.000, steps: 2967\n",
      "Episode 76: reward: 3650.000, steps: 3274\n",
      "Episode 77: reward: 2700.000, steps: 2911\n",
      "Episode 78: reward: 3200.000, steps: 2871\n",
      "Episode 79: reward: 2825.000, steps: 2381\n",
      "Episode 80: reward: 4575.000, steps: 3364\n",
      "Episode 81: reward: 4300.000, steps: 3633\n",
      "Episode 82: reward: 1800.000, steps: 2241\n",
      "Episode 83: reward: 3675.000, steps: 3203\n",
      "Episode 84: reward: 2775.000, steps: 2448\n",
      "Episode 85: reward: 1475.000, steps: 2128\n",
      "Episode 86: reward: 3675.000, steps: 3816\n",
      "Episode 87: reward: 4800.000, steps: 4143\n",
      "Episode 88: reward: 2850.000, steps: 3032\n",
      "Episode 89: reward: 2600.000, steps: 2829\n",
      "Episode 90: reward: 2725.000, steps: 2546\n",
      "Episode 91: reward: 3425.000, steps: 2876\n",
      "Episode 92: reward: 3700.000, steps: 3620\n",
      "Episode 93: reward: 2525.000, steps: 2429\n",
      "Episode 94: reward: 2475.000, steps: 2242\n",
      "Episode 95: reward: 3000.000, steps: 2724\n",
      "Episode 96: reward: 3200.000, steps: 3180\n",
      "Episode 97: reward: 3750.000, steps: 3453\n",
      "Episode 98: reward: 2800.000, steps: 2878\n",
      "Episode 99: reward: 2900.000, steps: 2756\n",
      "Episode 100: reward: 4150.000, steps: 3399\n",
      "Average Reward : 2995.25\n"
     ]
    }
   ],
   "source": [
    "dqn.load_weights('DQN_'+game+'_weights')\n",
    "history = dqn.test(env, nb_episodes=100, visualize=False)\n",
    "\n",
    "from statistics import mean\n",
    "\n",
    "print('Average Reward : {}'.format(mean(history.history['episode_reward'])))"
   ]
  },
  {
   "cell_type": "code",
   "execution_count": null,
   "metadata": {},
   "outputs": [],
   "source": []
  }
 ],
 "metadata": {
  "accelerator": "GPU",
  "colab": {
   "collapsed_sections": [],
   "machine_shape": "hm",
   "name": "AirRaid-v0_Atari.ipynb",
   "provenance": []
  },
  "kernelspec": {
   "display_name": "Python 3",
   "language": "python",
   "name": "python3"
  },
  "language_info": {
   "codemirror_mode": {
    "name": "ipython",
    "version": 3
   },
   "file_extension": ".py",
   "mimetype": "text/x-python",
   "name": "python",
   "nbconvert_exporter": "python",
   "pygments_lexer": "ipython3",
   "version": "3.7.3"
  }
 },
 "nbformat": 4,
 "nbformat_minor": 1
}
