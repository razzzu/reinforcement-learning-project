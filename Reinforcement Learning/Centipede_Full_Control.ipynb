{
 "cells": [
  {
   "cell_type": "code",
   "execution_count": 0,
   "metadata": {
    "colab": {
     "base_uri": "https://localhost:8080/",
     "height": 1000
    },
    "colab_type": "code",
    "id": "iVwFMKGWt1sz",
    "outputId": "46639969-fdd9-49b5-8eee-b6d89049da75"
   },
   "outputs": [
    {
     "name": "stdout",
     "output_type": "stream",
     "text": [
      "Collecting keras-rl\n",
      "\u001b[?25l  Downloading https://files.pythonhosted.org/packages/ab/87/4b57eff8e4bd834cea0a75cd6c58198c9e42be29b600db9c14fafa72ec07/keras-rl-0.4.2.tar.gz (40kB)\n",
      "\r",
      "\u001b[K     |████████                        | 10kB 26.1MB/s eta 0:00:01\r",
      "\u001b[K     |████████████████▏               | 20kB 3.2MB/s eta 0:00:01\r",
      "\u001b[K     |████████████████████████▎       | 30kB 4.6MB/s eta 0:00:01\r",
      "\u001b[K     |████████████████████████████████| 40kB 3.1MB/s \n",
      "\u001b[?25hRequirement already satisfied: keras>=2.0.7 in /usr/local/lib/python3.6/dist-packages (from keras-rl) (2.2.5)\n",
      "Requirement already satisfied: numpy>=1.9.1 in /usr/local/lib/python3.6/dist-packages (from keras>=2.0.7->keras-rl) (1.17.4)\n",
      "Requirement already satisfied: scipy>=0.14 in /usr/local/lib/python3.6/dist-packages (from keras>=2.0.7->keras-rl) (1.3.2)\n",
      "Requirement already satisfied: six>=1.9.0 in /usr/local/lib/python3.6/dist-packages (from keras>=2.0.7->keras-rl) (1.12.0)\n",
      "Requirement already satisfied: h5py in /usr/local/lib/python3.6/dist-packages (from keras>=2.0.7->keras-rl) (2.8.0)\n",
      "Requirement already satisfied: pyyaml in /usr/local/lib/python3.6/dist-packages (from keras>=2.0.7->keras-rl) (3.13)\n",
      "Requirement already satisfied: keras-preprocessing>=1.1.0 in /usr/local/lib/python3.6/dist-packages (from keras>=2.0.7->keras-rl) (1.1.0)\n",
      "Requirement already satisfied: keras-applications>=1.0.8 in /usr/local/lib/python3.6/dist-packages (from keras>=2.0.7->keras-rl) (1.0.8)\n",
      "Building wheels for collected packages: keras-rl\n",
      "  Building wheel for keras-rl (setup.py) ... \u001b[?25l\u001b[?25hdone\n",
      "  Created wheel for keras-rl: filename=keras_rl-0.4.2-cp36-none-any.whl size=48379 sha256=15a7bf1c08c1d20ea19a4d341395a8e4e10b7a2d05bc6bbfb4eb92ca61ca83f5\n",
      "  Stored in directory: /root/.cache/pip/wheels/7d/4d/84/9254c9f2e8f51865cb0dac8e79da85330c735551d31f73c894\n",
      "Successfully built keras-rl\n",
      "Installing collected packages: keras-rl\n",
      "Successfully installed keras-rl-0.4.2\n",
      "Collecting keras==2.2.4\n",
      "\u001b[?25l  Downloading https://files.pythonhosted.org/packages/5e/10/aa32dad071ce52b5502266b5c659451cfd6ffcbf14e6c8c4f16c0ff5aaab/Keras-2.2.4-py2.py3-none-any.whl (312kB)\n",
      "\u001b[K     |████████████████████████████████| 317kB 4.9MB/s \n",
      "\u001b[?25hRequirement already satisfied: numpy>=1.9.1 in /usr/local/lib/python3.6/dist-packages (from keras==2.2.4) (1.17.4)\n",
      "Requirement already satisfied: keras-applications>=1.0.6 in /usr/local/lib/python3.6/dist-packages (from keras==2.2.4) (1.0.8)\n",
      "Requirement already satisfied: scipy>=0.14 in /usr/local/lib/python3.6/dist-packages (from keras==2.2.4) (1.3.2)\n",
      "Requirement already satisfied: keras-preprocessing>=1.0.5 in /usr/local/lib/python3.6/dist-packages (from keras==2.2.4) (1.1.0)\n",
      "Requirement already satisfied: h5py in /usr/local/lib/python3.6/dist-packages (from keras==2.2.4) (2.8.0)\n",
      "Requirement already satisfied: six>=1.9.0 in /usr/local/lib/python3.6/dist-packages (from keras==2.2.4) (1.12.0)\n",
      "Requirement already satisfied: pyyaml in /usr/local/lib/python3.6/dist-packages (from keras==2.2.4) (3.13)\n",
      "Installing collected packages: keras\n",
      "  Found existing installation: Keras 2.2.5\n",
      "    Uninstalling Keras-2.2.5:\n",
      "      Successfully uninstalled Keras-2.2.5\n",
      "Successfully installed keras-2.2.4\n",
      "Collecting tensorflow-gpu==1.13.1\n",
      "\u001b[?25l  Downloading https://files.pythonhosted.org/packages/7b/b1/0ad4ae02e17ddd62109cd54c291e311c4b5fd09b4d0678d3d6ce4159b0f0/tensorflow_gpu-1.13.1-cp36-cp36m-manylinux1_x86_64.whl (345.2MB)\n",
      "\u001b[K     |████████████████████████████████| 345.2MB 45kB/s \n",
      "\u001b[?25hRequirement already satisfied: keras-preprocessing>=1.0.5 in /usr/local/lib/python3.6/dist-packages (from tensorflow-gpu==1.13.1) (1.1.0)\n",
      "Requirement already satisfied: wheel>=0.26 in /usr/local/lib/python3.6/dist-packages (from tensorflow-gpu==1.13.1) (0.33.6)\n",
      "Requirement already satisfied: gast>=0.2.0 in /usr/local/lib/python3.6/dist-packages (from tensorflow-gpu==1.13.1) (0.2.2)\n",
      "Requirement already satisfied: keras-applications>=1.0.6 in /usr/local/lib/python3.6/dist-packages (from tensorflow-gpu==1.13.1) (1.0.8)\n",
      "Requirement already satisfied: termcolor>=1.1.0 in /usr/local/lib/python3.6/dist-packages (from tensorflow-gpu==1.13.1) (1.1.0)\n",
      "Requirement already satisfied: six>=1.10.0 in /usr/local/lib/python3.6/dist-packages (from tensorflow-gpu==1.13.1) (1.12.0)\n",
      "Requirement already satisfied: absl-py>=0.1.6 in /usr/local/lib/python3.6/dist-packages (from tensorflow-gpu==1.13.1) (0.8.1)\n",
      "Requirement already satisfied: numpy>=1.13.3 in /usr/local/lib/python3.6/dist-packages (from tensorflow-gpu==1.13.1) (1.17.4)\n",
      "Requirement already satisfied: protobuf>=3.6.1 in /usr/local/lib/python3.6/dist-packages (from tensorflow-gpu==1.13.1) (3.10.0)\n",
      "Collecting tensorboard<1.14.0,>=1.13.0\n",
      "\u001b[?25l  Downloading https://files.pythonhosted.org/packages/0f/39/bdd75b08a6fba41f098b6cb091b9e8c7a80e1b4d679a581a0ccd17b10373/tensorboard-1.13.1-py3-none-any.whl (3.2MB)\n",
      "\u001b[K     |████████████████████████████████| 3.2MB 36.7MB/s \n",
      "\u001b[?25hCollecting tensorflow-estimator<1.14.0rc0,>=1.13.0\n",
      "\u001b[?25l  Downloading https://files.pythonhosted.org/packages/bb/48/13f49fc3fa0fdf916aa1419013bb8f2ad09674c275b4046d5ee669a46873/tensorflow_estimator-1.13.0-py2.py3-none-any.whl (367kB)\n",
      "\u001b[K     |████████████████████████████████| 368kB 49.9MB/s \n",
      "\u001b[?25hRequirement already satisfied: grpcio>=1.8.6 in /usr/local/lib/python3.6/dist-packages (from tensorflow-gpu==1.13.1) (1.15.0)\n",
      "Requirement already satisfied: astor>=0.6.0 in /usr/local/lib/python3.6/dist-packages (from tensorflow-gpu==1.13.1) (0.8.0)\n",
      "Requirement already satisfied: h5py in /usr/local/lib/python3.6/dist-packages (from keras-applications>=1.0.6->tensorflow-gpu==1.13.1) (2.8.0)\n",
      "Requirement already satisfied: setuptools in /usr/local/lib/python3.6/dist-packages (from protobuf>=3.6.1->tensorflow-gpu==1.13.1) (41.6.0)\n",
      "Requirement already satisfied: markdown>=2.6.8 in /usr/local/lib/python3.6/dist-packages (from tensorboard<1.14.0,>=1.13.0->tensorflow-gpu==1.13.1) (3.1.1)\n",
      "Requirement already satisfied: werkzeug>=0.11.15 in /usr/local/lib/python3.6/dist-packages (from tensorboard<1.14.0,>=1.13.0->tensorflow-gpu==1.13.1) (0.16.0)\n",
      "Collecting mock>=2.0.0\n",
      "  Downloading https://files.pythonhosted.org/packages/05/d2/f94e68be6b17f46d2c353564da56e6fb89ef09faeeff3313a046cb810ca9/mock-3.0.5-py2.py3-none-any.whl\n",
      "\u001b[31mERROR: tensorflow 1.15.0 has requirement tensorboard<1.16.0,>=1.15.0, but you'll have tensorboard 1.13.1 which is incompatible.\u001b[0m\n",
      "\u001b[31mERROR: tensorflow 1.15.0 has requirement tensorflow-estimator==1.15.1, but you'll have tensorflow-estimator 1.13.0 which is incompatible.\u001b[0m\n",
      "Installing collected packages: tensorboard, mock, tensorflow-estimator, tensorflow-gpu\n",
      "  Found existing installation: tensorboard 1.15.0\n",
      "    Uninstalling tensorboard-1.15.0:\n",
      "      Successfully uninstalled tensorboard-1.15.0\n",
      "  Found existing installation: tensorflow-estimator 1.15.1\n",
      "    Uninstalling tensorflow-estimator-1.15.1:\n",
      "      Successfully uninstalled tensorflow-estimator-1.15.1\n",
      "Successfully installed mock-3.0.5 tensorboard-1.13.1 tensorflow-estimator-1.13.0 tensorflow-gpu-1.13.1\n"
     ]
    }
   ],
   "source": [
    "#!apt-get install -y xvfb python-opengl > /dev/null 2>&1\n",
    "#!pip install gym pyvirtualdisplay > /dev/null 2>&1\n",
    "#!apt-get install x11-utils\n",
    "!pip install keras-rl\n",
    "!pip install keras==2.2.4\n",
    "!pip install tensorflow-gpu==1.13.1 "
   ]
  },
  {
   "cell_type": "code",
   "execution_count": 1,
   "metadata": {
    "colab": {
     "base_uri": "https://localhost:8080/",
     "height": 365
    },
    "colab_type": "code",
    "id": "9RSYAXAjt83R",
    "outputId": "e25c0377-8b33-4544-f9f4-bedccedfe5a1"
   },
   "outputs": [
    {
     "name": "stderr",
     "output_type": "stream",
     "text": [
      "Using TensorFlow backend.\n"
     ]
    },
    {
     "name": "stdout",
     "output_type": "stream",
     "text": [
      "2.2.4\n",
      "1.13.1\n"
     ]
    }
   ],
   "source": [
    "from __future__ import division\n",
    "import gym\n",
    "import atari_py\n",
    "from PIL import Image\n",
    "import numpy as np\n",
    "import keras\n",
    "import tensorflow as tf\n",
    "\n",
    "from keras.models import Sequential\n",
    "from keras.layers import Dense, Activation, Flatten, Convolution2D, Permute\n",
    "from keras.optimizers import Adam\n",
    "import keras.backend as K\n",
    "\n",
    "from rl.agents.dqn import DQNAgent\n",
    "from rl.policy import LinearAnnealedPolicy, BoltzmannQPolicy, EpsGreedyQPolicy\n",
    "from rl.memory import SequentialMemory\n",
    "from rl.core import Processor\n",
    "#print(atari_py.list_games())\n",
    "\n",
    "print(keras.__version__)\n",
    "print(tf.__version__)\n"
   ]
  },
  {
   "cell_type": "code",
   "execution_count": 2,
   "metadata": {
    "colab": {},
    "colab_type": "code",
    "id": "RD7yq62q1a4V"
   },
   "outputs": [],
   "source": [
    "INPUT_SHAPE = (84, 84)\n",
    "WINDOW_LENGTH = 4\n",
    "\n",
    "class AtariProcessor(Processor):\n",
    "    def process_observation(self, observation):\n",
    "        assert observation.ndim == 3  # (height, width, channel)\n",
    "        img = Image.fromarray(observation)\n",
    "        img = img.resize(INPUT_SHAPE).convert('L')  # resize and convert to grayscale\n",
    "        processed_observation = np.array(img)\n",
    "        assert processed_observation.shape == INPUT_SHAPE\n",
    "        return processed_observation.astype('float32')/255 \n",
    "\n",
    "    #def process_reward(self, reward):\n",
    "     #   return np.clip(reward, -1., 1.)"
   ]
  },
  {
   "cell_type": "code",
   "execution_count": 3,
   "metadata": {
    "colab": {
     "base_uri": "https://localhost:8080/",
     "height": 34
    },
    "colab_type": "code",
    "id": "6ezTP1w7uG1Q",
    "outputId": "4c2362d2-a295-4666-e003-3c49cabaa0a5"
   },
   "outputs": [],
   "source": [
    "game = 'Centipede-v0' #18\n",
    "#game = 'Breakout-v0' #4\n",
    "#game = 'Solaris-v0' #18\n",
    "#game = 'DemonAttack-v0' #6\n",
    "#game = 'AirRaid-v0' #6\n",
    "\n",
    "env = gym.make(game, full_action_space=True)\n",
    "np.random.seed(123)\n",
    "env.seed(123)\n",
    "#env.reset()\n",
    "nb_actions = env.action_space.n\n",
    "#print(nb_actions)"
   ]
  },
  {
   "cell_type": "code",
   "execution_count": 4,
   "metadata": {
    "colab": {
     "base_uri": "https://localhost:8080/",
     "height": 653
    },
    "colab_type": "code",
    "id": "lmkHFMiT1hRo",
    "outputId": "0cf77f66-e747-4d3b-ed24-c3b07b3e4fa3"
   },
   "outputs": [
    {
     "name": "stdout",
     "output_type": "stream",
     "text": [
      "WARNING:tensorflow:From D:\\Anaconda\\lib\\site-packages\\tensorflow\\python\\framework\\op_def_library.py:263: colocate_with (from tensorflow.python.framework.ops) is deprecated and will be removed in a future version.\n",
      "Instructions for updating:\n",
      "Colocations handled automatically by placer.\n",
      "_________________________________________________________________\n",
      "Layer (type)                 Output Shape              Param #   \n",
      "=================================================================\n",
      "permute_1 (Permute)          (None, 84, 84, 4)         0         \n",
      "_________________________________________________________________\n",
      "conv2d_1 (Conv2D)            (None, 20, 20, 32)        8224      \n",
      "_________________________________________________________________\n",
      "conv2d_2 (Conv2D)            (None, 9, 9, 64)          32832     \n",
      "_________________________________________________________________\n",
      "conv2d_3 (Conv2D)            (None, 7, 7, 64)          36928     \n",
      "_________________________________________________________________\n",
      "flatten_1 (Flatten)          (None, 3136)              0         \n",
      "_________________________________________________________________\n",
      "dense_1 (Dense)              (None, 512)               1606144   \n",
      "_________________________________________________________________\n",
      "dense_2 (Dense)              (None, 18)                9234      \n",
      "=================================================================\n",
      "Total params: 1,693,362\n",
      "Trainable params: 1,693,362\n",
      "Non-trainable params: 0\n",
      "_________________________________________________________________\n",
      "None\n"
     ]
    }
   ],
   "source": [
    "input_shape = (WINDOW_LENGTH,) + INPUT_SHAPE\n",
    "model = Sequential()\n",
    "if K.image_dim_ordering() == 'tf':\n",
    "    # (width, height, channels)\n",
    "    model.add(Permute((2, 3, 1), input_shape=input_shape))\n",
    "elif K.image_dim_ordering() == 'th':\n",
    "    # (channels, width, height)\n",
    "    model.add(Permute((1, 2, 3), input_shape=input_shape))\n",
    "else:\n",
    "    raise RuntimeError('Unknown image_dim_ordering.')\n",
    "\n",
    "model.add(Convolution2D(32, (8, 8), strides=(4, 4), activation = 'relu'))\n",
    "model.add(Convolution2D(64, (4, 4), strides=(2, 2), activation = 'relu'))\n",
    "model.add(Convolution2D(64, (3, 3), strides=(1, 1), activation = 'relu'))\n",
    "model.add(Flatten())\n",
    "model.add(Dense(512, activation = 'relu'))\n",
    "model.add(Dense(nb_actions, activation = 'linear'))\n",
    "\n",
    "print(model.summary())"
   ]
  },
  {
   "cell_type": "code",
   "execution_count": 5,
   "metadata": {
    "colab": {},
    "colab_type": "code",
    "id": "3AjfEABouNNG"
   },
   "outputs": [],
   "source": [
    "memory = SequentialMemory(limit=1000000, window_length=WINDOW_LENGTH)\n",
    "processor = AtariProcessor()\n",
    "\n",
    "policy = LinearAnnealedPolicy(EpsGreedyQPolicy(), attr='eps', value_max=1., value_min=.1, value_test=.05, nb_steps=100000)\n",
    "\n",
    "dqn = DQNAgent(model=model, nb_actions=nb_actions, policy=policy, memory=memory, processor=processor, nb_steps_warmup=50000, target_model_update=10000,train_interval=4)\n",
    "dqn.compile(Adam(lr=.00025), metrics=['mae'])"
   ]
  },
  {
   "cell_type": "code",
   "execution_count": 0,
   "metadata": {
    "colab": {
     "base_uri": "https://localhost:8080/",
     "height": 1000
    },
    "colab_type": "code",
    "id": "_SEjoTV2uQWC",
    "outputId": "5e6d5867-a767-4c89-c844-2e1cf9a9f95c"
   },
   "outputs": [
    {
     "name": "stdout",
     "output_type": "stream",
     "text": [
      "Training for 200000 steps ...\n",
      "Interval 1 (0 steps performed)\n",
      "10000/10000 [==============================] - 28s 3ms/step - reward: 2.0996\n",
      "11 episodes - episode_reward: 1897.455 [844.000, 3723.000] - ale.lives: 2.106\n",
      "\n",
      "Interval 2 (10000 steps performed)\n",
      "10000/10000 [==============================] - 27s 3ms/step - reward: 2.0671\n",
      "11 episodes - episode_reward: 1852.909 [561.000, 3078.000] - ale.lives: 2.006\n",
      "\n",
      "Interval 3 (20000 steps performed)\n",
      "10000/10000 [==============================] - 27s 3ms/step - reward: 2.1161\n",
      "11 episodes - episode_reward: 1940.091 [428.000, 3712.000] - ale.lives: 2.041\n",
      "\n",
      "Interval 4 (30000 steps performed)\n",
      "10000/10000 [==============================] - 27s 3ms/step - reward: 1.7302\n",
      "11 episodes - episode_reward: 1584.091 [598.000, 2681.000] - ale.lives: 2.166\n",
      "\n",
      "Interval 5 (40000 steps performed)\n",
      "10000/10000 [==============================] - 27s 3ms/step - reward: 2.4528\n",
      "8 episodes - episode_reward: 2555.875 [1561.000, 5075.000] - ale.lives: 2.115\n",
      "\n",
      "Interval 6 (50000 steps performed)\n",
      "    1/10000 [..............................] - ETA: 1:59 - reward: 0.0000e+00WARNING:tensorflow:From /usr/local/lib/python3.6/dist-packages/tensorflow/python/ops/math_ops.py:3066: to_int32 (from tensorflow.python.ops.math_ops) is deprecated and will be removed in a future version.\n",
      "Instructions for updating:\n",
      "Use tf.cast instead.\n",
      "10000/10000 [==============================] - 66s 7ms/step - reward: 2.2752\n",
      "10 episodes - episode_reward: 2692.200 [515.000, 4927.000] - loss: 413.194 - mean_absolute_error: 22.195 - mean_q: 26.152 - mean_eps: 0.505 - ale.lives: 2.000\n",
      "\n",
      "Interval 7 (60000 steps performed)\n",
      "10000/10000 [==============================] - 65s 7ms/step - reward: 2.4001\n",
      "8 episodes - episode_reward: 2934.625 [764.000, 5181.000] - loss: 393.871 - mean_absolute_error: 25.324 - mean_q: 29.882 - mean_eps: 0.415 - ale.lives: 2.060\n",
      "\n",
      "Interval 8 (70000 steps performed)\n",
      "10000/10000 [==============================] - 66s 7ms/step - reward: 1.9000\n",
      "10 episodes - episode_reward: 1934.000 [409.000, 3064.000] - loss: 547.055 - mean_absolute_error: 27.505 - mean_q: 33.663 - mean_eps: 0.325 - ale.lives: 2.016\n",
      "\n",
      "Interval 9 (80000 steps performed)\n",
      "10000/10000 [==============================] - 65s 6ms/step - reward: 2.3553\n",
      "8 episodes - episode_reward: 2719.625 [436.000, 5215.000] - loss: 434.641 - mean_absolute_error: 29.732 - mean_q: 36.350 - mean_eps: 0.235 - ale.lives: 1.980\n",
      "\n",
      "Interval 10 (90000 steps performed)\n",
      "10000/10000 [==============================] - 65s 6ms/step - reward: 2.9166\n",
      "8 episodes - episode_reward: 3528.125 [1795.000, 6627.000] - loss: 397.669 - mean_absolute_error: 31.409 - mean_q: 38.732 - mean_eps: 0.145 - ale.lives: 2.179\n",
      "\n",
      "Interval 11 (100000 steps performed)\n",
      "10000/10000 [==============================] - 65s 6ms/step - reward: 2.5604\n",
      "11 episodes - episode_reward: 2584.000 [1159.000, 3866.000] - loss: 447.150 - mean_absolute_error: 34.000 - mean_q: 42.281 - mean_eps: 0.100 - ale.lives: 2.050\n",
      "\n",
      "Interval 12 (110000 steps performed)\n",
      "10000/10000 [==============================] - 65s 6ms/step - reward: 1.8960\n",
      "10 episodes - episode_reward: 1875.100 [847.000, 3200.000] - loss: 381.646 - mean_absolute_error: 37.395 - mean_q: 46.141 - mean_eps: 0.100 - ale.lives: 2.143\n",
      "\n",
      "Interval 13 (120000 steps performed)\n",
      "10000/10000 [==============================] - 66s 7ms/step - reward: 2.8520\n",
      "10 episodes - episode_reward: 2835.800 [563.000, 4957.000] - loss: 452.926 - mean_absolute_error: 41.829 - mean_q: 51.452 - mean_eps: 0.100 - ale.lives: 1.941\n",
      "\n",
      "Interval 14 (130000 steps performed)\n",
      "10000/10000 [==============================] - 65s 6ms/step - reward: 2.7837\n",
      "10 episodes - episode_reward: 2524.400 [812.000, 5744.000] - loss: 444.742 - mean_absolute_error: 45.344 - mean_q: 55.275 - mean_eps: 0.100 - ale.lives: 2.009\n",
      "\n",
      "Interval 15 (140000 steps performed)\n",
      "10000/10000 [==============================] - 65s 6ms/step - reward: 2.7538\n",
      "8 episodes - episode_reward: 3422.875 [1455.000, 6937.000] - loss: 490.516 - mean_absolute_error: 51.491 - mean_q: 61.651 - mean_eps: 0.100 - ale.lives: 2.046\n",
      "\n",
      "Interval 16 (150000 steps performed)\n",
      "10000/10000 [==============================] - 65s 6ms/step - reward: 2.5712\n",
      "11 episodes - episode_reward: 2379.727 [573.000, 3701.000] - loss: 520.244 - mean_absolute_error: 52.329 - mean_q: 63.464 - mean_eps: 0.100 - ale.lives: 1.967\n",
      "\n",
      "Interval 17 (160000 steps performed)\n",
      "10000/10000 [==============================] - 65s 7ms/step - reward: 2.8119\n",
      "8 episodes - episode_reward: 3581.875 [1704.000, 8876.000] - loss: 603.408 - mean_absolute_error: 56.288 - mean_q: 69.117 - mean_eps: 0.100 - ale.lives: 2.088\n",
      "\n",
      "Interval 18 (170000 steps performed)\n",
      "10000/10000 [==============================] - 65s 7ms/step - reward: 3.0970\n",
      "10 episodes - episode_reward: 3198.000 [1708.000, 6221.000] - loss: 512.711 - mean_absolute_error: 59.727 - mean_q: 72.403 - mean_eps: 0.100 - ale.lives: 2.043\n",
      "\n",
      "Interval 19 (180000 steps performed)\n",
      "10000/10000 [==============================] - 65s 6ms/step - reward: 2.3010\n",
      "10 episodes - episode_reward: 2415.600 [988.000, 4433.000] - loss: 566.194 - mean_absolute_error: 60.805 - mean_q: 73.401 - mean_eps: 0.100 - ale.lives: 1.958\n",
      "\n",
      "Interval 20 (190000 steps performed)\n",
      "10000/10000 [==============================] - 65s 6ms/step - reward: 3.4806\n",
      "done, took 1112.717 seconds\n"
     ]
    }
   ],
   "source": [
    "dqn.load_weights('DQN_AirRaid-v0_weights')\n",
    "dqn.fit(env, nb_steps=200000, visualize=False, verbose=1)\n",
    "dqn.save_weights('DQN_'+game+'_weights',overwrite=True)"
   ]
  },
  {
   "cell_type": "code",
   "execution_count": 8,
   "metadata": {
    "colab": {
     "base_uri": "https://localhost:8080/",
     "height": 228
    },
    "colab_type": "code",
    "id": "37ZDS7-puSvl",
    "outputId": "db0fe31e-df56-409e-c6a6-03875b983888"
   },
   "outputs": [
    {
     "name": "stdout",
     "output_type": "stream",
     "text": [
      "Testing for 10 episodes ...\n",
      "Episode 1: reward: 4035.000, steps: 1205\n",
      "Episode 2: reward: 8873.000, steps: 1478\n",
      "Episode 3: reward: 1246.000, steps: 587\n",
      "Episode 4: reward: 7139.000, steps: 1598\n",
      "Episode 5: reward: 7153.000, steps: 1343\n",
      "Episode 6: reward: 2787.000, steps: 1031\n",
      "Episode 7: reward: 1619.000, steps: 896\n",
      "Episode 8: reward: 3605.000, steps: 1132\n",
      "Episode 9: reward: 5453.000, steps: 886\n",
      "Episode 10: reward: 2757.000, steps: 901\n"
     ]
    },
    {
     "data": {
      "text/plain": [
       "<keras.callbacks.History at 0x1947fa96c18>"
      ]
     },
     "execution_count": 8,
     "metadata": {},
     "output_type": "execute_result"
    }
   ],
   "source": [
    "dqn.load_weights('DQN_'+game+'_weights')\n",
    "dqn.test(env, nb_episodes=10, visualize=True)"
   ]
  },
  {
   "cell_type": "code",
   "execution_count": 9,
   "metadata": {
    "colab": {},
    "colab_type": "code",
    "id": "_2xG8AwbulgH"
   },
   "outputs": [],
   "source": [
    "env.close()"
   ]
  },
  {
   "cell_type": "code",
   "execution_count": 10,
   "metadata": {},
   "outputs": [
    {
     "name": "stdout",
     "output_type": "stream",
     "text": [
      "Testing for 100 episodes ...\n",
      "Episode 1: reward: 1136.000, steps: 679\n",
      "Episode 2: reward: 5294.000, steps: 1395\n",
      "Episode 3: reward: 3318.000, steps: 1219\n",
      "Episode 4: reward: 1553.000, steps: 670\n",
      "Episode 5: reward: 2438.000, steps: 1111\n",
      "Episode 6: reward: 2520.000, steps: 1085\n",
      "Episode 7: reward: 2113.000, steps: 1095\n",
      "Episode 8: reward: 2306.000, steps: 1149\n",
      "Episode 9: reward: 1457.000, steps: 846\n",
      "Episode 10: reward: 2514.000, steps: 659\n",
      "Episode 11: reward: 3946.000, steps: 1573\n",
      "Episode 12: reward: 2437.000, steps: 1020\n",
      "Episode 13: reward: 1359.000, steps: 657\n",
      "Episode 14: reward: 1841.000, steps: 665\n",
      "Episode 15: reward: 6387.000, steps: 1416\n",
      "Episode 16: reward: 4554.000, steps: 1523\n",
      "Episode 17: reward: 4760.000, steps: 1616\n",
      "Episode 18: reward: 3800.000, steps: 887\n",
      "Episode 19: reward: 1434.000, steps: 1260\n",
      "Episode 20: reward: 2358.000, steps: 666\n",
      "Episode 21: reward: 5754.000, steps: 1287\n",
      "Episode 22: reward: 2744.000, steps: 974\n",
      "Episode 23: reward: 1599.000, steps: 1068\n",
      "Episode 24: reward: 7946.000, steps: 1873\n",
      "Episode 25: reward: 3121.000, steps: 1117\n",
      "Episode 26: reward: 908.000, steps: 964\n",
      "Episode 27: reward: 2136.000, steps: 1132\n",
      "Episode 28: reward: 2070.000, steps: 507\n",
      "Episode 29: reward: 2783.000, steps: 1070\n",
      "Episode 30: reward: 3922.000, steps: 1184\n",
      "Episode 31: reward: 487.000, steps: 488\n",
      "Episode 32: reward: 2564.000, steps: 735\n",
      "Episode 33: reward: 871.000, steps: 762\n",
      "Episode 34: reward: 4677.000, steps: 1357\n",
      "Episode 35: reward: 4418.000, steps: 1669\n",
      "Episode 36: reward: 2082.000, steps: 837\n",
      "Episode 37: reward: 5527.000, steps: 1634\n",
      "Episode 38: reward: 3545.000, steps: 1188\n",
      "Episode 39: reward: 1504.000, steps: 817\n",
      "Episode 40: reward: 4738.000, steps: 1348\n",
      "Episode 41: reward: 3289.000, steps: 1094\n",
      "Episode 42: reward: 3695.000, steps: 914\n",
      "Episode 43: reward: 3527.000, steps: 1265\n",
      "Episode 44: reward: 6592.000, steps: 1136\n",
      "Episode 45: reward: 809.000, steps: 1031\n",
      "Episode 46: reward: 2765.000, steps: 1687\n",
      "Episode 47: reward: 6656.000, steps: 1426\n",
      "Episode 48: reward: 983.000, steps: 852\n",
      "Episode 49: reward: 2908.000, steps: 1351\n",
      "Episode 50: reward: 794.000, steps: 761\n",
      "Episode 51: reward: 1980.000, steps: 955\n",
      "Episode 52: reward: 2339.000, steps: 670\n",
      "Episode 53: reward: 2908.000, steps: 1234\n",
      "Episode 54: reward: 1619.000, steps: 1236\n",
      "Episode 55: reward: 4351.000, steps: 1091\n",
      "Episode 56: reward: 2693.000, steps: 1168\n",
      "Episode 57: reward: 2167.000, steps: 813\n",
      "Episode 58: reward: 1281.000, steps: 578\n",
      "Episode 59: reward: 2095.000, steps: 943\n",
      "Episode 60: reward: 1747.000, steps: 966\n",
      "Episode 61: reward: 3043.000, steps: 576\n",
      "Episode 62: reward: 1183.000, steps: 982\n",
      "Episode 63: reward: 1981.000, steps: 567\n",
      "Episode 64: reward: 3951.000, steps: 1118\n",
      "Episode 65: reward: 1193.000, steps: 661\n",
      "Episode 66: reward: 6447.000, steps: 1419\n",
      "Episode 67: reward: 4713.000, steps: 1135\n",
      "Episode 68: reward: 2404.000, steps: 680\n",
      "Episode 69: reward: 729.000, steps: 1162\n",
      "Episode 70: reward: 3219.000, steps: 1041\n",
      "Episode 71: reward: 1994.000, steps: 571\n",
      "Episode 72: reward: 1968.000, steps: 669\n",
      "Episode 73: reward: 3439.000, steps: 1001\n",
      "Episode 74: reward: 2870.000, steps: 1343\n",
      "Episode 75: reward: 2651.000, steps: 904\n",
      "Episode 76: reward: 1261.000, steps: 560\n",
      "Episode 77: reward: 3275.000, steps: 926\n",
      "Episode 78: reward: 1535.000, steps: 643\n",
      "Episode 79: reward: 3724.000, steps: 864\n",
      "Episode 80: reward: 887.000, steps: 587\n",
      "Episode 81: reward: 1625.000, steps: 1260\n",
      "Episode 82: reward: 450.000, steps: 499\n",
      "Episode 83: reward: 2084.000, steps: 848\n",
      "Episode 84: reward: 2904.000, steps: 1424\n",
      "Episode 85: reward: 1235.000, steps: 925\n",
      "Episode 86: reward: 1958.000, steps: 838\n",
      "Episode 87: reward: 1304.000, steps: 768\n",
      "Episode 88: reward: 2049.000, steps: 860\n",
      "Episode 89: reward: 1232.000, steps: 855\n",
      "Episode 90: reward: 563.000, steps: 626\n",
      "Episode 91: reward: 6226.000, steps: 1172\n",
      "Episode 92: reward: 2594.000, steps: 1402\n",
      "Episode 93: reward: 4778.000, steps: 1096\n",
      "Episode 94: reward: 3734.000, steps: 1369\n",
      "Episode 95: reward: 1756.000, steps: 1014\n",
      "Episode 96: reward: 5591.000, steps: 1278\n",
      "Episode 97: reward: 4727.000, steps: 1165\n",
      "Episode 98: reward: 2087.000, steps: 722\n",
      "Episode 99: reward: 1422.000, steps: 742\n",
      "Episode 100: reward: 3010.000, steps: 962\n",
      "Average Reward : 2799.15\n"
     ]
    }
   ],
   "source": [
    "dqn.load_weights('DQN_'+game+'_weights')\n",
    "history = dqn.test(env, nb_episodes=100, visualize=False)\n",
    "\n",
    "from statistics import mean\n",
    "\n",
    "print('Average Reward : {}'.format(mean(history.history['episode_reward'])))"
   ]
  },
  {
   "cell_type": "code",
   "execution_count": null,
   "metadata": {},
   "outputs": [],
   "source": []
  }
 ],
 "metadata": {
  "accelerator": "GPU",
  "colab": {
   "collapsed_sections": [],
   "machine_shape": "hm",
   "name": "Centipede-v0_Atari.ipynb",
   "provenance": []
  },
  "kernelspec": {
   "display_name": "Python 3",
   "language": "python",
   "name": "python3"
  },
  "language_info": {
   "codemirror_mode": {
    "name": "ipython",
    "version": 3
   },
   "file_extension": ".py",
   "mimetype": "text/x-python",
   "name": "python",
   "nbconvert_exporter": "python",
   "pygments_lexer": "ipython3",
   "version": "3.7.3"
  }
 },
 "nbformat": 4,
 "nbformat_minor": 1
}
