{
 "cells": [
  {
   "cell_type": "code",
   "execution_count": 1,
   "metadata": {
    "colab": {
     "base_uri": "https://localhost:8080/",
     "height": 1000
    },
    "colab_type": "code",
    "id": "iVwFMKGWt1sz",
    "outputId": "46639969-fdd9-49b5-8eee-b6d89049da75"
   },
   "outputs": [],
   "source": [
    "#!apt-get install -y xvfb python-opengl > /dev/null 2>&1\n",
    "#!pip install gym pyvirtualdisplay > /dev/null 2>&1\n",
    "#!apt-get install x11-utils\n",
    "#!pip install keras-rl\n",
    "#!pip install keras==2.2.4\n",
    "#!pip install tensorflow-gpu==1.13.1 "
   ]
  },
  {
   "cell_type": "code",
   "execution_count": 2,
   "metadata": {
    "colab": {
     "base_uri": "https://localhost:8080/",
     "height": 365
    },
    "colab_type": "code",
    "id": "9RSYAXAjt83R",
    "outputId": "099c03f2-4d54-498b-fac8-d0599a6c415b"
   },
   "outputs": [
    {
     "name": "stderr",
     "output_type": "stream",
     "text": [
      "Using TensorFlow backend.\n"
     ]
    },
    {
     "name": "stdout",
     "output_type": "stream",
     "text": [
      "2.2.4\n",
      "1.13.1\n"
     ]
    }
   ],
   "source": [
    "from __future__ import division\n",
    "import gym\n",
    "import atari_py\n",
    "from PIL import Image\n",
    "import numpy as np\n",
    "import keras\n",
    "import tensorflow as tf\n",
    "\n",
    "from keras.models import Sequential, Model\n",
    "from keras.layers import Dense, Activation, Flatten, Convolution2D, Permute, Input\n",
    "from keras.optimizers import Adam\n",
    "import keras.backend as K\n",
    "\n",
    "from rl.agents.dqn import DQNAgent\n",
    "from rl.policy import LinearAnnealedPolicy, BoltzmannQPolicy, EpsGreedyQPolicy\n",
    "from rl.memory import SequentialMemory\n",
    "from rl.core import Processor\n",
    "#print(atari_py.list_games())\n",
    "\n",
    "print(keras.__version__)\n",
    "print(tf.__version__)\n"
   ]
  },
  {
   "cell_type": "code",
   "execution_count": 3,
   "metadata": {
    "colab": {},
    "colab_type": "code",
    "id": "RD7yq62q1a4V"
   },
   "outputs": [],
   "source": [
    "INPUT_SHAPE = (84, 84)\n",
    "WINDOW_LENGTH = 4\n",
    "\n",
    "class AtariProcessor(Processor):\n",
    "    def process_observation(self, observation):\n",
    "        assert observation.ndim == 3  # (height, width, channel)\n",
    "        img = Image.fromarray(observation)\n",
    "        img = img.resize(INPUT_SHAPE).convert('L')  # resize and convert to grayscale\n",
    "        processed_observation = np.array(img)\n",
    "        assert processed_observation.shape == INPUT_SHAPE\n",
    "        return processed_observation.astype('float32')/255 \n",
    "\n",
    "    #def process_reward(self, reward):\n",
    "     #   return np.clip(reward, -1., 1.)"
   ]
  },
  {
   "cell_type": "code",
   "execution_count": 4,
   "metadata": {
    "colab": {
     "base_uri": "https://localhost:8080/",
     "height": 34
    },
    "colab_type": "code",
    "id": "6ezTP1w7uG1Q",
    "outputId": "1b6dae7d-7704-4cc3-db94-b9df9754ae8d"
   },
   "outputs": [],
   "source": [
    "#game = 'Freeway-v0' #3\n",
    "#game = 'BeamRider-v0' #9\n",
    "game = 'Centipede-v0' #18\n",
    "#game = 'Breakout-v0' #18\n",
    "#game = 'DemonAttack-v0' #6\n",
    "#game = 'AirRaid-v0' #6\n",
    "env = gym.make(game)\n",
    "np.random.seed(123)\n",
    "env.seed(123)\n",
    "#env.reset()\n",
    "nb_actions = env.action_space.n\n",
    "#print(nb_actions)\n",
    "\n",
    "total_actions = 18"
   ]
  },
  {
   "cell_type": "code",
   "execution_count": 5,
   "metadata": {
    "colab": {
     "base_uri": "https://localhost:8080/",
     "height": 580
    },
    "colab_type": "code",
    "id": "lmkHFMiT1hRo",
    "outputId": "291d508f-aee4-44f8-99d4-05d774205d79"
   },
   "outputs": [
    {
     "name": "stdout",
     "output_type": "stream",
     "text": [
      "WARNING:tensorflow:From D:\\Anaconda\\lib\\site-packages\\tensorflow\\python\\framework\\op_def_library.py:263: colocate_with (from tensorflow.python.framework.ops) is deprecated and will be removed in a future version.\n",
      "Instructions for updating:\n",
      "Colocations handled automatically by placer.\n",
      "_________________________________________________________________\n",
      "Layer (type)                 Output Shape              Param #   \n",
      "=================================================================\n",
      "input_1 (InputLayer)         (None, 4, 84, 84)         0         \n",
      "_________________________________________________________________\n",
      "permute_1 (Permute)          (None, 84, 84, 4)         0         \n",
      "_________________________________________________________________\n",
      "conv2d_1 (Conv2D)            (None, 20, 20, 32)        8224      \n",
      "_________________________________________________________________\n",
      "conv2d_2 (Conv2D)            (None, 9, 9, 64)          32832     \n",
      "_________________________________________________________________\n",
      "conv2d_3 (Conv2D)            (None, 7, 7, 64)          36928     \n",
      "_________________________________________________________________\n",
      "flatten_1 (Flatten)          (None, 3136)              0         \n",
      "_________________________________________________________________\n",
      "dense_1 (Dense)              (None, 512)               1606144   \n",
      "_________________________________________________________________\n",
      "dense_2 (Dense)              (None, 18)                9234      \n",
      "_________________________________________________________________\n",
      "dense_3 (Dense)              (None, 18)                342       \n",
      "=================================================================\n",
      "Total params: 1,693,704\n",
      "Trainable params: 1,693,704\n",
      "Non-trainable params: 0\n",
      "_________________________________________________________________\n",
      "None\n"
     ]
    }
   ],
   "source": [
    "input_shape = (WINDOW_LENGTH,) + INPUT_SHAPE\n",
    "\n",
    "input_layer = Input(shape=input_shape)\n",
    "if K.image_dim_ordering() == 'tf':\n",
    "    # (width, height, channels)\n",
    "    permute_layer = Permute((2, 3, 1))(input_layer)\n",
    "elif K.image_dim_ordering() == 'th':\n",
    "    # (channels, width, height)\n",
    "    permute_layer = Permute((1, 2, 3))(input_layer)\n",
    "else:\n",
    "    raise RuntimeError('Unknown image_dim_ordering for environment 1.')\n",
    "\n",
    "Conv_1 = Convolution2D(32, (8, 8), strides=(4, 4), activation = 'relu')(permute_layer)\n",
    "Conv_2 = Convolution2D(64, (4, 4), strides=(2, 2), activation = 'relu')(Conv_1)\n",
    "Conv_3 = Convolution2D(64, (3, 3), strides=(1, 1), activation = 'relu')(Conv_2)\n",
    "flatten_layer = Flatten()(Conv_3)\n",
    "dense_layer = Dense(512, activation = 'relu')(flatten_layer)\n",
    "dense_actions_layer = Dense(total_actions, activation = 'linear')(dense_layer)\n",
    "output_layer = Dense(nb_actions, activation = 'linear') (dense_actions_layer)\n",
    "\n",
    "model = Model(inputs = [input_layer], outputs = [output_layer])\n",
    "print(model.summary())"
   ]
  },
  {
   "cell_type": "code",
   "execution_count": 6,
   "metadata": {
    "colab": {},
    "colab_type": "code",
    "id": "3AjfEABouNNG"
   },
   "outputs": [],
   "source": [
    "memory = SequentialMemory(limit=1000000, window_length=WINDOW_LENGTH)\n",
    "processor = AtariProcessor()\n",
    "\n",
    "policy = LinearAnnealedPolicy(EpsGreedyQPolicy(), attr='eps', value_max=1., value_min=.1, value_test=.05, nb_steps=100000)\n",
    "\n",
    "dqn = DQNAgent(model=model, nb_actions=nb_actions, policy=policy, memory=memory, processor=processor, nb_steps_warmup=50000, target_model_update=10000,train_interval=4)\n",
    "dqn.compile(Adam(lr=.00025), metrics=['mae'])\n",
    "\n"
   ]
  },
  {
   "cell_type": "code",
   "execution_count": 10,
   "metadata": {
    "colab": {
     "base_uri": "https://localhost:8080/",
     "height": 228
    },
    "colab_type": "code",
    "id": "37ZDS7-puSvl",
    "outputId": "f0946bf5-e61b-4211-f090-6175f75e0337"
   },
   "outputs": [
    {
     "name": "stdout",
     "output_type": "stream",
     "text": [
      "Testing for 100 episodes ...\n",
      "Episode 1: reward: 292.000, steps: 962\n",
      "Episode 2: reward: 4532.000, steps: 1357\n",
      "Episode 3: reward: 1644.000, steps: 1505\n",
      "Episode 4: reward: 3313.000, steps: 1529\n",
      "Episode 5: reward: 2567.000, steps: 1413\n",
      "Episode 6: reward: 2338.000, steps: 1319\n",
      "Episode 7: reward: 1363.000, steps: 1179\n",
      "Episode 8: reward: 4782.000, steps: 1749\n",
      "Episode 9: reward: 1478.000, steps: 1262\n",
      "Episode 10: reward: 2290.000, steps: 1187\n",
      "Episode 11: reward: 2023.000, steps: 1198\n",
      "Episode 12: reward: 428.000, steps: 775\n",
      "Episode 13: reward: 1861.000, steps: 1349\n",
      "Episode 14: reward: 326.000, steps: 699\n",
      "Episode 15: reward: 1829.000, steps: 1128\n",
      "Episode 16: reward: 669.000, steps: 924\n",
      "Episode 17: reward: 1707.000, steps: 1035\n",
      "Episode 18: reward: 860.000, steps: 1475\n",
      "Episode 19: reward: 1466.000, steps: 1097\n",
      "Episode 20: reward: 1083.000, steps: 893\n",
      "Episode 21: reward: 3933.000, steps: 2775\n",
      "Episode 22: reward: 1629.000, steps: 1510\n",
      "Episode 23: reward: 1053.000, steps: 1220\n",
      "Episode 24: reward: 343.000, steps: 724\n",
      "Episode 25: reward: 2072.000, steps: 1291\n",
      "Episode 26: reward: 1386.000, steps: 931\n",
      "Episode 27: reward: 2058.000, steps: 930\n",
      "Episode 28: reward: 1550.000, steps: 649\n",
      "Episode 29: reward: 1973.000, steps: 1225\n",
      "Episode 30: reward: 1607.000, steps: 1099\n",
      "Episode 31: reward: 1245.000, steps: 1416\n",
      "Episode 32: reward: 740.000, steps: 634\n",
      "Episode 33: reward: 1356.000, steps: 1022\n",
      "Episode 34: reward: 2326.000, steps: 1316\n",
      "Episode 35: reward: 4844.000, steps: 1207\n",
      "Episode 36: reward: 938.000, steps: 1070\n",
      "Episode 37: reward: 2561.000, steps: 822\n",
      "Episode 38: reward: 797.000, steps: 881\n",
      "Episode 39: reward: 2420.000, steps: 1085\n",
      "Episode 40: reward: 942.000, steps: 1035\n",
      "Episode 41: reward: 940.000, steps: 1154\n",
      "Episode 42: reward: 2463.000, steps: 1223\n",
      "Episode 43: reward: 1397.000, steps: 1055\n",
      "Episode 44: reward: 3016.000, steps: 2460\n",
      "Episode 45: reward: 2283.000, steps: 1663\n",
      "Episode 46: reward: 2519.000, steps: 852\n",
      "Episode 47: reward: 2458.000, steps: 1464\n",
      "Episode 48: reward: 772.000, steps: 1076\n",
      "Episode 49: reward: 884.000, steps: 1048\n",
      "Episode 50: reward: 2374.000, steps: 1396\n",
      "Episode 51: reward: 304.000, steps: 903\n",
      "Episode 52: reward: 1360.000, steps: 1341\n",
      "Episode 53: reward: 2360.000, steps: 1635\n",
      "Episode 54: reward: 1671.000, steps: 1216\n",
      "Episode 55: reward: 1975.000, steps: 1380\n",
      "Episode 56: reward: 2574.000, steps: 868\n",
      "Episode 57: reward: 592.000, steps: 768\n",
      "Episode 58: reward: 1694.000, steps: 747\n",
      "Episode 59: reward: 1079.000, steps: 997\n",
      "Episode 60: reward: 2390.000, steps: 1416\n",
      "Episode 61: reward: 2426.000, steps: 1243\n",
      "Episode 62: reward: 1191.000, steps: 922\n",
      "Episode 63: reward: 3587.000, steps: 1248\n",
      "Episode 64: reward: 1272.000, steps: 1262\n",
      "Episode 65: reward: 7027.000, steps: 3503\n",
      "Episode 66: reward: 709.000, steps: 731\n",
      "Episode 67: reward: 653.000, steps: 736\n",
      "Episode 68: reward: 1042.000, steps: 1185\n",
      "Episode 69: reward: 2173.000, steps: 1022\n",
      "Episode 70: reward: 994.000, steps: 921\n",
      "Episode 71: reward: 2283.000, steps: 1208\n",
      "Episode 72: reward: 2676.000, steps: 1790\n",
      "Episode 73: reward: 1884.000, steps: 1419\n",
      "Episode 74: reward: 2278.000, steps: 1062\n",
      "Episode 75: reward: 1085.000, steps: 1193\n",
      "Episode 76: reward: 4190.000, steps: 1328\n",
      "Episode 77: reward: 1584.000, steps: 1109\n",
      "Episode 78: reward: 3161.000, steps: 1623\n",
      "Episode 79: reward: 2045.000, steps: 1076\n",
      "Episode 80: reward: 940.000, steps: 785\n",
      "Episode 81: reward: 1674.000, steps: 723\n",
      "Episode 82: reward: 1551.000, steps: 754\n",
      "Episode 83: reward: 1354.000, steps: 1087\n",
      "Episode 84: reward: 1263.000, steps: 1140\n",
      "Episode 85: reward: 4288.000, steps: 1650\n",
      "Episode 86: reward: 1481.000, steps: 809\n",
      "Episode 87: reward: 2492.000, steps: 1268\n",
      "Episode 88: reward: 1612.000, steps: 1168\n",
      "Episode 89: reward: 2032.000, steps: 959\n",
      "Episode 90: reward: 1342.000, steps: 1285\n",
      "Episode 91: reward: 1997.000, steps: 822\n",
      "Episode 92: reward: 1082.000, steps: 746\n",
      "Episode 93: reward: 3610.000, steps: 1074\n",
      "Episode 94: reward: 267.000, steps: 1098\n",
      "Episode 95: reward: 1972.000, steps: 1490\n",
      "Episode 96: reward: 1646.000, steps: 764\n",
      "Episode 97: reward: 2823.000, steps: 1873\n",
      "Episode 98: reward: 4141.000, steps: 2069\n",
      "Episode 99: reward: 1473.000, steps: 887\n",
      "Episode 100: reward: 630.000, steps: 758\n",
      "Average Reward : 1896.59\n"
     ]
    }
   ],
   "source": [
    "dqn.load_weights('DQN_model2_weights_Centipede_v2')\n",
    "history = dqn.test(env, nb_episodes=100, visualize=False)\n",
    "\n",
    "from statistics import mean\n",
    "\n",
    "print('Average Reward : {}'.format(mean(history.history['episode_reward'])))"
   ]
  },
  {
   "cell_type": "code",
   "execution_count": 8,
   "metadata": {
    "colab": {},
    "colab_type": "code",
    "id": "_2xG8AwbulgH"
   },
   "outputs": [],
   "source": [
    "env.close()"
   ]
  },
  {
   "cell_type": "code",
   "execution_count": null,
   "metadata": {},
   "outputs": [],
   "source": []
  }
 ],
 "metadata": {
  "accelerator": "GPU",
  "colab": {
   "collapsed_sections": [],
   "machine_shape": "hm",
   "name": "AirRaid-v0_Atari.ipynb",
   "provenance": []
  },
  "kernelspec": {
   "display_name": "Python 3",
   "language": "python",
   "name": "python3"
  },
  "language_info": {
   "codemirror_mode": {
    "name": "ipython",
    "version": 3
   },
   "file_extension": ".py",
   "mimetype": "text/x-python",
   "name": "python",
   "nbconvert_exporter": "python",
   "pygments_lexer": "ipython3",
   "version": "3.7.3"
  }
 },
 "nbformat": 4,
 "nbformat_minor": 1
}
