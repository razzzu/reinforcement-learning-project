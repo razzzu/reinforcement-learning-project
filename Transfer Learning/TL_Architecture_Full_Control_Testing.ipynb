{
 "cells": [
  {
   "cell_type": "code",
   "execution_count": 38,
   "metadata": {
    "colab": {
     "base_uri": "https://localhost:8080/",
     "height": 1000
    },
    "colab_type": "code",
    "id": "iVwFMKGWt1sz",
    "outputId": "46639969-fdd9-49b5-8eee-b6d89049da75"
   },
   "outputs": [],
   "source": [
    "#!apt-get install -y xvfb python-opengl > /dev/null 2>&1\n",
    "#!pip install gym pyvirtualdisplay > /dev/null 2>&1\n",
    "#!apt-get install x11-utils\n",
    "#!pip install keras-rl\n",
    "#!pip install keras==2.2.4\n",
    "#!pip install tensorflow-gpu==1.13.1 "
   ]
  },
  {
   "cell_type": "code",
   "execution_count": 45,
   "metadata": {
    "colab": {
     "base_uri": "https://localhost:8080/",
     "height": 365
    },
    "colab_type": "code",
    "id": "9RSYAXAjt83R",
    "outputId": "099c03f2-4d54-498b-fac8-d0599a6c415b"
   },
   "outputs": [
    {
     "name": "stdout",
     "output_type": "stream",
     "text": [
      "2.2.4\n",
      "1.13.1\n"
     ]
    }
   ],
   "source": [
    "from __future__ import division\n",
    "import gym\n",
    "import atari_py\n",
    "from PIL import Image\n",
    "import numpy as np\n",
    "import keras\n",
    "import tensorflow as tf\n",
    "\n",
    "from keras.models import Sequential, Model\n",
    "from keras.layers import Dense, Activation, Flatten, Convolution2D, Permute, Input\n",
    "from keras.optimizers import Adam\n",
    "import keras.backend as K\n",
    "\n",
    "from rl.agents.dqn import DQNAgent\n",
    "from rl.policy import LinearAnnealedPolicy, BoltzmannQPolicy, EpsGreedyQPolicy\n",
    "from rl.memory import SequentialMemory\n",
    "from rl.core import Processor\n",
    "#print(atari_py.list_games())\n",
    "\n",
    "print(keras.__version__)\n",
    "print(tf.__version__)\n"
   ]
  },
  {
   "cell_type": "code",
   "execution_count": 40,
   "metadata": {
    "colab": {},
    "colab_type": "code",
    "id": "RD7yq62q1a4V"
   },
   "outputs": [],
   "source": [
    "INPUT_SHAPE = (84, 84)\n",
    "WINDOW_LENGTH = 4\n",
    "\n",
    "class AtariProcessor(Processor):\n",
    "    def process_observation(self, observation):\n",
    "        assert observation.ndim == 3  # (height, width, channel)\n",
    "        img = Image.fromarray(observation)\n",
    "        img = img.resize(INPUT_SHAPE).convert('L')  # resize and convert to grayscale\n",
    "        processed_observation = np.array(img)\n",
    "        assert processed_observation.shape == INPUT_SHAPE\n",
    "        return processed_observation.astype('float32')/255 \n",
    "\n",
    "    #def process_reward(self, reward):\n",
    "     #   return np.clip(reward, -1., 1.)"
   ]
  },
  {
   "cell_type": "code",
   "execution_count": 41,
   "metadata": {
    "colab": {
     "base_uri": "https://localhost:8080/",
     "height": 34
    },
    "colab_type": "code",
    "id": "6ezTP1w7uG1Q",
    "outputId": "1b6dae7d-7704-4cc3-db94-b9df9754ae8d"
   },
   "outputs": [],
   "source": [
    "#game = 'Freeway-v0' #3\n",
    "#game = 'BeamRider-v0' #9\n",
    "game = 'Centipede-v0' #18\n",
    "#game = 'Breakout-v0' #18\n",
    "#game = 'DemonAttack-v0' #6\n",
    "#game = 'AirRaid-v0' #6\n",
    "env = gym.make(game, full_action_space=True)\n",
    "np.random.seed(123)\n",
    "env.seed(123)\n",
    "#env.reset()\n",
    "nb_actions = env.action_space.n\n",
    "#print(nb_actions)"
   ]
  },
  {
   "cell_type": "code",
   "execution_count": 48,
   "metadata": {
    "colab": {
     "base_uri": "https://localhost:8080/",
     "height": 580
    },
    "colab_type": "code",
    "id": "lmkHFMiT1hRo",
    "outputId": "291d508f-aee4-44f8-99d4-05d774205d79"
   },
   "outputs": [
    {
     "name": "stdout",
     "output_type": "stream",
     "text": [
      "_________________________________________________________________\n",
      "Layer (type)                 Output Shape              Param #   \n",
      "=================================================================\n",
      "input_11 (InputLayer)        (None, 4, 84, 84)         0         \n",
      "_________________________________________________________________\n",
      "permute_13 (Permute)         (None, 84, 84, 4)         0         \n",
      "_________________________________________________________________\n",
      "conv2d_35 (Conv2D)           (None, 20, 20, 32)        8224      \n",
      "_________________________________________________________________\n",
      "conv2d_36 (Conv2D)           (None, 9, 9, 64)          32832     \n",
      "_________________________________________________________________\n",
      "conv2d_37 (Conv2D)           (None, 7, 7, 64)          36928     \n",
      "_________________________________________________________________\n",
      "flatten_12 (Flatten)         (None, 3136)              0         \n",
      "_________________________________________________________________\n",
      "dense_22 (Dense)             (None, 512)               1606144   \n",
      "_________________________________________________________________\n",
      "dense_23 (Dense)             (None, 18)                9234      \n",
      "=================================================================\n",
      "Total params: 1,693,362\n",
      "Trainable params: 1,693,362\n",
      "Non-trainable params: 0\n",
      "_________________________________________________________________\n",
      "None\n"
     ]
    }
   ],
   "source": [
    "input_shape = (WINDOW_LENGTH,) + INPUT_SHAPE\n",
    "\n",
    "input_layer = Input(shape=input_shape)\n",
    "if K.image_dim_ordering() == 'tf':\n",
    "    # (width, height, channels)\n",
    "    permute_layer = Permute((2, 3, 1))(input_layer)\n",
    "elif K.image_dim_ordering() == 'th':\n",
    "    # (channels, width, height)\n",
    "    permute_layer = Permute((1, 2, 3))(input_layer)\n",
    "else:\n",
    "    raise RuntimeError('Unknown image_dim_ordering for environment 1.')\n",
    "\n",
    "Conv_1 = Convolution2D(32, (8, 8), strides=(4, 4), activation = 'relu')(permute_layer)\n",
    "Conv_2 = Convolution2D(64, (4, 4), strides=(2, 2), activation = 'relu')(Conv_1)\n",
    "Conv_3 = Convolution2D(64, (3, 3), strides=(1, 1), activation = 'relu')(Conv_2)\n",
    "flatten_layer = Flatten()(Conv_3)\n",
    "dense_layer = Dense(512, activation = 'relu')(flatten_layer)\n",
    "output_layer = Dense(nb_actions, activation = 'linear') (dense_layer)\n",
    "\n",
    "model = Model(inputs = [input_layer], outputs = [output_layer])\n",
    "print(model.summary())\n"
   ]
  },
  {
   "cell_type": "code",
   "execution_count": 43,
   "metadata": {
    "colab": {},
    "colab_type": "code",
    "id": "3AjfEABouNNG"
   },
   "outputs": [],
   "source": [
    "memory = SequentialMemory(limit=1000000, window_length=WINDOW_LENGTH)\n",
    "processor = AtariProcessor()\n",
    "\n",
    "policy = LinearAnnealedPolicy(EpsGreedyQPolicy(), attr='eps', value_max=1., value_min=.1, value_test=.05, nb_steps=100000)\n",
    "\n",
    "dqn = DQNAgent(model=model, nb_actions=nb_actions, policy=policy, memory=memory, processor=processor, nb_steps_warmup=50000, target_model_update=10000,train_interval=4)\n",
    "dqn.compile(Adam(lr=.00025), metrics=['mae'])\n",
    "\n"
   ]
  },
  {
   "cell_type": "code",
   "execution_count": 30,
   "metadata": {
    "colab": {
     "base_uri": "https://localhost:8080/",
     "height": 228
    },
    "colab_type": "code",
    "id": "37ZDS7-puSvl",
    "outputId": "f0946bf5-e61b-4211-f090-6175f75e0337"
   },
   "outputs": [
    {
     "name": "stdout",
     "output_type": "stream",
     "text": [
      "Testing for 100 episodes ...\n",
      "Episode 1: reward: 3039.000, steps: 779\n",
      "Episode 2: reward: 2446.000, steps: 1105\n",
      "Episode 3: reward: 10473.000, steps: 2260\n",
      "Episode 4: reward: 5581.000, steps: 1228\n",
      "Episode 5: reward: 3289.000, steps: 1023\n",
      "Episode 6: reward: 337.000, steps: 474\n",
      "Episode 7: reward: 2057.000, steps: 954\n",
      "Episode 8: reward: 8057.000, steps: 1529\n",
      "Episode 9: reward: 2238.000, steps: 829\n",
      "Episode 10: reward: 3117.000, steps: 813\n",
      "Episode 11: reward: 10698.000, steps: 1472\n",
      "Episode 12: reward: 956.000, steps: 782\n",
      "Episode 13: reward: 2996.000, steps: 913\n",
      "Episode 14: reward: 6090.000, steps: 1565\n",
      "Episode 15: reward: 3328.000, steps: 1041\n",
      "Episode 16: reward: 5697.000, steps: 1178\n",
      "Episode 17: reward: 3734.000, steps: 1091\n",
      "Episode 18: reward: 4476.000, steps: 833\n",
      "Episode 19: reward: 4974.000, steps: 1625\n",
      "Episode 20: reward: 3234.000, steps: 691\n",
      "Episode 21: reward: 3784.000, steps: 1376\n",
      "Episode 22: reward: 6696.000, steps: 1369\n",
      "Episode 23: reward: 4858.000, steps: 998\n",
      "Episode 24: reward: 2624.000, steps: 1009\n",
      "Episode 25: reward: 4929.000, steps: 1005\n",
      "Episode 26: reward: 1384.000, steps: 922\n",
      "Episode 27: reward: 3840.000, steps: 1079\n",
      "Episode 28: reward: 4925.000, steps: 947\n",
      "Episode 29: reward: 6400.000, steps: 1454\n",
      "Episode 30: reward: 3085.000, steps: 1253\n",
      "Episode 31: reward: 2549.000, steps: 795\n",
      "Episode 32: reward: 3500.000, steps: 848\n",
      "Episode 33: reward: 3712.000, steps: 1154\n",
      "Episode 34: reward: 3270.000, steps: 1004\n",
      "Episode 35: reward: 2503.000, steps: 734\n",
      "Episode 36: reward: 13859.000, steps: 2268\n",
      "Episode 37: reward: 4228.000, steps: 1197\n",
      "Episode 38: reward: 7978.000, steps: 1295\n",
      "Episode 39: reward: 4772.000, steps: 1193\n",
      "Episode 40: reward: 7008.000, steps: 1347\n",
      "Episode 41: reward: 3740.000, steps: 1253\n",
      "Episode 42: reward: 4603.000, steps: 1055\n",
      "Episode 43: reward: 7948.000, steps: 1199\n",
      "Episode 44: reward: 4692.000, steps: 1414\n",
      "Episode 45: reward: 6386.000, steps: 1040\n",
      "Episode 46: reward: 3078.000, steps: 1086\n",
      "Episode 47: reward: 5071.000, steps: 1406\n",
      "Episode 48: reward: 2510.000, steps: 1099\n",
      "Episode 49: reward: 3702.000, steps: 743\n",
      "Episode 50: reward: 3525.000, steps: 1107\n",
      "Episode 51: reward: 11053.000, steps: 2208\n",
      "Episode 52: reward: 2783.000, steps: 768\n",
      "Episode 53: reward: 2921.000, steps: 834\n",
      "Episode 54: reward: 3940.000, steps: 1094\n",
      "Episode 55: reward: 4719.000, steps: 1176\n",
      "Episode 56: reward: 4022.000, steps: 846\n",
      "Episode 57: reward: 5883.000, steps: 1282\n",
      "Episode 58: reward: 4664.000, steps: 1203\n",
      "Episode 59: reward: 1794.000, steps: 1122\n",
      "Episode 60: reward: 3391.000, steps: 722\n",
      "Episode 61: reward: 3608.000, steps: 1026\n",
      "Episode 62: reward: 3052.000, steps: 709\n",
      "Episode 63: reward: 1812.000, steps: 1092\n",
      "Episode 64: reward: 1890.000, steps: 889\n",
      "Episode 65: reward: 2959.000, steps: 1246\n",
      "Episode 66: reward: 4887.000, steps: 1106\n",
      "Episode 67: reward: 4893.000, steps: 1139\n",
      "Episode 68: reward: 3616.000, steps: 1571\n",
      "Episode 69: reward: 7044.000, steps: 1337\n",
      "Episode 70: reward: 6287.000, steps: 1021\n",
      "Episode 71: reward: 5614.000, steps: 1012\n",
      "Episode 72: reward: 3777.000, steps: 927\n",
      "Episode 73: reward: 415.000, steps: 498\n",
      "Episode 74: reward: 2906.000, steps: 1172\n",
      "Episode 75: reward: 6741.000, steps: 1587\n",
      "Episode 76: reward: 4014.000, steps: 1081\n",
      "Episode 77: reward: 6331.000, steps: 1259\n",
      "Episode 78: reward: 1117.000, steps: 431\n",
      "Episode 79: reward: 8300.000, steps: 2165\n",
      "Episode 80: reward: 3822.000, steps: 1069\n",
      "Episode 81: reward: 1560.000, steps: 662\n",
      "Episode 82: reward: 4572.000, steps: 1080\n",
      "Episode 83: reward: 1987.000, steps: 880\n",
      "Episode 84: reward: 2337.000, steps: 892\n",
      "Episode 85: reward: 6095.000, steps: 1281\n",
      "Episode 86: reward: 5041.000, steps: 1241\n",
      "Episode 87: reward: 4203.000, steps: 850\n",
      "Episode 88: reward: 3789.000, steps: 942\n",
      "Episode 89: reward: 3839.000, steps: 1291\n",
      "Episode 90: reward: 1912.000, steps: 1173\n",
      "Episode 91: reward: 3098.000, steps: 1035\n",
      "Episode 92: reward: 3834.000, steps: 857\n",
      "Episode 93: reward: 4968.000, steps: 1107\n",
      "Episode 94: reward: 4350.000, steps: 1224\n",
      "Episode 95: reward: 1345.000, steps: 598\n",
      "Episode 96: reward: 5487.000, steps: 1222\n",
      "Episode 97: reward: 5377.000, steps: 1612\n",
      "Episode 98: reward: 4548.000, steps: 1307\n",
      "Episode 99: reward: 4587.000, steps: 1568\n",
      "Episode 100: reward: 4118.000, steps: 1002\n",
      "Average Reward : 4332.78\n"
     ]
    }
   ],
   "source": [
    "dqn.load_weights('DQN_model2_weights_Centipede')\n",
    "history = dqn.test(env, nb_episodes=100, visualize=False)\n",
    "\n",
    "from statistics import mean\n",
    "\n",
    "print('Average Reward : {}'.format(mean(history.history['episode_reward'])))"
   ]
  },
  {
   "cell_type": "code",
   "execution_count": 29,
   "metadata": {
    "colab": {},
    "colab_type": "code",
    "id": "_2xG8AwbulgH"
   },
   "outputs": [],
   "source": [
    "env.close()"
   ]
  },
  {
   "cell_type": "code",
   "execution_count": null,
   "metadata": {},
   "outputs": [],
   "source": []
  }
 ],
 "metadata": {
  "accelerator": "GPU",
  "colab": {
   "collapsed_sections": [],
   "machine_shape": "hm",
   "name": "AirRaid-v0_Atari.ipynb",
   "provenance": []
  },
  "kernelspec": {
   "display_name": "Python 3",
   "language": "python",
   "name": "python3"
  },
  "language_info": {
   "codemirror_mode": {
    "name": "ipython",
    "version": 3
   },
   "file_extension": ".py",
   "mimetype": "text/x-python",
   "name": "python",
   "nbconvert_exporter": "python",
   "pygments_lexer": "ipython3",
   "version": "3.7.3"
  }
 },
 "nbformat": 4,
 "nbformat_minor": 1
}
