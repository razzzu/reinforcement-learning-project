{
  "nbformat": 4,
  "nbformat_minor": 0,
  "metadata": {
    "kernelspec": {
      "name": "python3",
      "display_name": "Python 3"
    },
    "language_info": {
      "codemirror_mode": {
        "name": "ipython",
        "version": 3
      },
      "file_extension": ".py",
      "mimetype": "text/x-python",
      "name": "python",
      "nbconvert_exporter": "python",
      "pygments_lexer": "ipython3",
      "version": "3.7.5"
    },
    "colab": {
      "name": "rl-openai-templete.ipynb",
      "provenance": []
    },
    "accelerator": "GPU"
  },
  "cells": [
    {
      "cell_type": "markdown",
      "metadata": {
        "id": "8G4zgoFG5EkZ",
        "colab_type": "text"
      },
      "source": [
        "#Keras RL and OpenAI Gym Tutorial/Template\n",
        "Main Steps:\n"
      ]
    },
    {
      "cell_type": "markdown",
      "metadata": {
        "id": "AlIvgn6O5maO",
        "colab_type": "text"
      },
      "source": [
        "Keras-rl v0.4.2 works best with keras 2.2.4 and tensorflow 1.13.1"
      ]
    },
    {
      "cell_type": "code",
      "metadata": {
        "id": "sBZB-OaU4u0D",
        "colab_type": "code",
        "outputId": "53bbb7e0-5112-40cb-d4be-1dcf4a51365e",
        "colab": {
          "base_uri": "https://localhost:8080/",
          "height": 1000
        }
      },
      "source": [
        "!pip install keras-rl\n",
        "!pip install keras==2.2.4\n",
        "!pip install tensorflow-gpu==1.13.1 "
      ],
      "execution_count": 0,
      "outputs": [
        {
          "output_type": "stream",
          "text": [
            "Collecting keras-rl\n",
            "\u001b[?25l  Downloading https://files.pythonhosted.org/packages/ab/87/4b57eff8e4bd834cea0a75cd6c58198c9e42be29b600db9c14fafa72ec07/keras-rl-0.4.2.tar.gz (40kB)\n",
            "\r\u001b[K     |████████                        | 10kB 18.2MB/s eta 0:00:01\r\u001b[K     |████████████████▏               | 20kB 2.3MB/s eta 0:00:01\r\u001b[K     |████████████████████████▎       | 30kB 3.4MB/s eta 0:00:01\r\u001b[K     |████████████████████████████████| 40kB 2.4MB/s \n",
            "\u001b[?25hRequirement already satisfied: keras>=2.0.7 in /usr/local/lib/python3.6/dist-packages (from keras-rl) (2.2.5)\n",
            "Requirement already satisfied: scipy>=0.14 in /usr/local/lib/python3.6/dist-packages (from keras>=2.0.7->keras-rl) (1.3.2)\n",
            "Requirement already satisfied: pyyaml in /usr/local/lib/python3.6/dist-packages (from keras>=2.0.7->keras-rl) (3.13)\n",
            "Requirement already satisfied: six>=1.9.0 in /usr/local/lib/python3.6/dist-packages (from keras>=2.0.7->keras-rl) (1.12.0)\n",
            "Requirement already satisfied: keras-applications>=1.0.8 in /usr/local/lib/python3.6/dist-packages (from keras>=2.0.7->keras-rl) (1.0.8)\n",
            "Requirement already satisfied: numpy>=1.9.1 in /usr/local/lib/python3.6/dist-packages (from keras>=2.0.7->keras-rl) (1.17.4)\n",
            "Requirement already satisfied: h5py in /usr/local/lib/python3.6/dist-packages (from keras>=2.0.7->keras-rl) (2.8.0)\n",
            "Requirement already satisfied: keras-preprocessing>=1.1.0 in /usr/local/lib/python3.6/dist-packages (from keras>=2.0.7->keras-rl) (1.1.0)\n",
            "Building wheels for collected packages: keras-rl\n",
            "  Building wheel for keras-rl (setup.py) ... \u001b[?25l\u001b[?25hdone\n",
            "  Created wheel for keras-rl: filename=keras_rl-0.4.2-cp36-none-any.whl size=48379 sha256=0d1fbe455c5b1781ab44e1b6333b4fdb69e41f404f97a500fa8df818290dacf2\n",
            "  Stored in directory: /root/.cache/pip/wheels/7d/4d/84/9254c9f2e8f51865cb0dac8e79da85330c735551d31f73c894\n",
            "Successfully built keras-rl\n",
            "Installing collected packages: keras-rl\n",
            "Successfully installed keras-rl-0.4.2\n",
            "Collecting keras==2.2.4\n",
            "\u001b[?25l  Downloading https://files.pythonhosted.org/packages/5e/10/aa32dad071ce52b5502266b5c659451cfd6ffcbf14e6c8c4f16c0ff5aaab/Keras-2.2.4-py2.py3-none-any.whl (312kB)\n",
            "\u001b[K     |████████████████████████████████| 317kB 3.4MB/s \n",
            "\u001b[?25hRequirement already satisfied: keras-applications>=1.0.6 in /usr/local/lib/python3.6/dist-packages (from keras==2.2.4) (1.0.8)\n",
            "Requirement already satisfied: pyyaml in /usr/local/lib/python3.6/dist-packages (from keras==2.2.4) (3.13)\n",
            "Requirement already satisfied: scipy>=0.14 in /usr/local/lib/python3.6/dist-packages (from keras==2.2.4) (1.3.2)\n",
            "Requirement already satisfied: six>=1.9.0 in /usr/local/lib/python3.6/dist-packages (from keras==2.2.4) (1.12.0)\n",
            "Requirement already satisfied: h5py in /usr/local/lib/python3.6/dist-packages (from keras==2.2.4) (2.8.0)\n",
            "Requirement already satisfied: keras-preprocessing>=1.0.5 in /usr/local/lib/python3.6/dist-packages (from keras==2.2.4) (1.1.0)\n",
            "Requirement already satisfied: numpy>=1.9.1 in /usr/local/lib/python3.6/dist-packages (from keras==2.2.4) (1.17.4)\n",
            "Installing collected packages: keras\n",
            "  Found existing installation: Keras 2.2.5\n",
            "    Uninstalling Keras-2.2.5:\n",
            "      Successfully uninstalled Keras-2.2.5\n",
            "Successfully installed keras-2.2.4\n",
            "Collecting tensorflow-gpu==1.13.1\n",
            "\u001b[?25l  Downloading https://files.pythonhosted.org/packages/7b/b1/0ad4ae02e17ddd62109cd54c291e311c4b5fd09b4d0678d3d6ce4159b0f0/tensorflow_gpu-1.13.1-cp36-cp36m-manylinux1_x86_64.whl (345.2MB)\n",
            "\u001b[K     |████████████████████████████████| 345.2MB 51kB/s \n",
            "\u001b[?25hRequirement already satisfied: astor>=0.6.0 in /usr/local/lib/python3.6/dist-packages (from tensorflow-gpu==1.13.1) (0.8.0)\n",
            "Requirement already satisfied: grpcio>=1.8.6 in /usr/local/lib/python3.6/dist-packages (from tensorflow-gpu==1.13.1) (1.15.0)\n",
            "Requirement already satisfied: gast>=0.2.0 in /usr/local/lib/python3.6/dist-packages (from tensorflow-gpu==1.13.1) (0.2.2)\n",
            "Requirement already satisfied: numpy>=1.13.3 in /usr/local/lib/python3.6/dist-packages (from tensorflow-gpu==1.13.1) (1.17.4)\n",
            "Requirement already satisfied: keras-applications>=1.0.6 in /usr/local/lib/python3.6/dist-packages (from tensorflow-gpu==1.13.1) (1.0.8)\n",
            "Requirement already satisfied: termcolor>=1.1.0 in /usr/local/lib/python3.6/dist-packages (from tensorflow-gpu==1.13.1) (1.1.0)\n",
            "Requirement already satisfied: absl-py>=0.1.6 in /usr/local/lib/python3.6/dist-packages (from tensorflow-gpu==1.13.1) (0.8.1)\n",
            "Collecting tensorboard<1.14.0,>=1.13.0\n",
            "\u001b[?25l  Downloading https://files.pythonhosted.org/packages/0f/39/bdd75b08a6fba41f098b6cb091b9e8c7a80e1b4d679a581a0ccd17b10373/tensorboard-1.13.1-py3-none-any.whl (3.2MB)\n",
            "\u001b[K     |████████████████████████████████| 3.2MB 35.8MB/s \n",
            "\u001b[?25hRequirement already satisfied: protobuf>=3.6.1 in /usr/local/lib/python3.6/dist-packages (from tensorflow-gpu==1.13.1) (3.10.0)\n",
            "Collecting tensorflow-estimator<1.14.0rc0,>=1.13.0\n",
            "\u001b[?25l  Downloading https://files.pythonhosted.org/packages/bb/48/13f49fc3fa0fdf916aa1419013bb8f2ad09674c275b4046d5ee669a46873/tensorflow_estimator-1.13.0-py2.py3-none-any.whl (367kB)\n",
            "\u001b[K     |████████████████████████████████| 368kB 31.0MB/s \n",
            "\u001b[?25hRequirement already satisfied: six>=1.10.0 in /usr/local/lib/python3.6/dist-packages (from tensorflow-gpu==1.13.1) (1.12.0)\n",
            "Requirement already satisfied: keras-preprocessing>=1.0.5 in /usr/local/lib/python3.6/dist-packages (from tensorflow-gpu==1.13.1) (1.1.0)\n",
            "Requirement already satisfied: wheel>=0.26 in /usr/local/lib/python3.6/dist-packages (from tensorflow-gpu==1.13.1) (0.33.6)\n",
            "Requirement already satisfied: h5py in /usr/local/lib/python3.6/dist-packages (from keras-applications>=1.0.6->tensorflow-gpu==1.13.1) (2.8.0)\n",
            "Requirement already satisfied: werkzeug>=0.11.15 in /usr/local/lib/python3.6/dist-packages (from tensorboard<1.14.0,>=1.13.0->tensorflow-gpu==1.13.1) (0.16.0)\n",
            "Requirement already satisfied: markdown>=2.6.8 in /usr/local/lib/python3.6/dist-packages (from tensorboard<1.14.0,>=1.13.0->tensorflow-gpu==1.13.1) (3.1.1)\n",
            "Requirement already satisfied: setuptools in /usr/local/lib/python3.6/dist-packages (from protobuf>=3.6.1->tensorflow-gpu==1.13.1) (41.6.0)\n",
            "Collecting mock>=2.0.0\n",
            "  Downloading https://files.pythonhosted.org/packages/05/d2/f94e68be6b17f46d2c353564da56e6fb89ef09faeeff3313a046cb810ca9/mock-3.0.5-py2.py3-none-any.whl\n",
            "\u001b[31mERROR: tensorflow 1.15.0 has requirement tensorboard<1.16.0,>=1.15.0, but you'll have tensorboard 1.13.1 which is incompatible.\u001b[0m\n",
            "\u001b[31mERROR: tensorflow 1.15.0 has requirement tensorflow-estimator==1.15.1, but you'll have tensorflow-estimator 1.13.0 which is incompatible.\u001b[0m\n",
            "Installing collected packages: tensorboard, mock, tensorflow-estimator, tensorflow-gpu\n",
            "  Found existing installation: tensorboard 1.15.0\n",
            "    Uninstalling tensorboard-1.15.0:\n",
            "      Successfully uninstalled tensorboard-1.15.0\n",
            "  Found existing installation: tensorflow-estimator 1.15.1\n",
            "    Uninstalling tensorflow-estimator-1.15.1:\n",
            "      Successfully uninstalled tensorflow-estimator-1.15.1\n",
            "Successfully installed mock-3.0.5 tensorboard-1.13.1 tensorflow-estimator-1.13.0 tensorflow-gpu-1.13.1\n"
          ],
          "name": "stdout"
        }
      ]
    },
    {
      "cell_type": "markdown",
      "metadata": {
        "id": "-ywvB80v6aPR",
        "colab_type": "text"
      },
      "source": [
        "##1. Import and setup gym enviornment"
      ]
    },
    {
      "cell_type": "code",
      "metadata": {
        "id": "BRoEPoYo4_xQ",
        "colab_type": "code",
        "outputId": "77d4fc4a-00f4-4736-aff2-fb6e98c7f9ac",
        "colab": {
          "base_uri": "https://localhost:8080/",
          "height": 72
        }
      },
      "source": [
        "import gym\n",
        "import atari_py\n",
        "import numpy as np\n",
        "\n",
        "print(\"List of all the games available: {}\".format(atari_py.list_games()))\n",
        "\n",
        "game = 'Freeway-v0' #Name of the game you want to use\n",
        "env = gym.make(game)\n",
        "observation_shape = env.observation_space.shape\n",
        "nb_actions = env.action_space.n\n",
        "print(\"Game is: \"+game+\", Observation space: {}, Action Size: {}\".format(observation_shape,nb_actions))"
      ],
      "execution_count": 0,
      "outputs": [
        {
          "output_type": "stream",
          "text": [
            "List of all the games available: ['kaboom', 'time_pilot', 'chopper_command', 'asterix', 'ms_pacman', 'adventure', 'elevator_action', 'kung_fu_master', 'robotank', 'boxing', 'jamesbond', 'centipede', 'journey_escape', 'riverraid', 'defender', 'pooyan', 'crazy_climber', 'zaxxon', 'pong', 'amidar', 'wizard_of_wor', 'fishing_derby', 'gravitar', 'kangaroo', 'road_runner', 'bank_heist', 'gopher', 'battle_zone', 'hero', 'star_gunner', 'qbert', 'breakout', 'space_invaders', 'phoenix', 'solaris', 'tennis', 'asteroids', 'frostbite', 'assault', 'double_dunk', 'alien', 'seaquest', 'carnival', 'demon_attack', 'atlantis', 'up_n_down', 'ice_hockey', 'air_raid', 'freeway', 'krull', 'private_eye', 'venture', 'beam_rider', 'pitfall', 'name_this_game', 'video_pinball', 'bowling', 'yars_revenge', 'berzerk', 'tutankham', 'montezuma_revenge', 'skiing', 'enduro']\n",
            "Game is: Freeway-v0, Observation space: (210, 160, 3), Action Size: 3\n"
          ],
          "name": "stdout"
        }
      ]
    },
    {
      "cell_type": "markdown",
      "metadata": {
        "id": "RK7jvXfK9rmn",
        "colab_type": "text"
      },
      "source": [
        "#2. Defining the Deep Learning Model\n",
        "This model will have a CNN which will proccess the frame of the game and then it will be followed by dense layer. The output of the network will have the same number as the actions space.\n",
        "To reduce training time the frames of game are down-sized and converted to grayscale therefore the input shape is different from the observation space of the game."
      ]
    },
    {
      "cell_type": "code",
      "metadata": {
        "id": "SsbUHgiU6x0O",
        "colab_type": "code",
        "outputId": "777396f1-3774-49fb-83e6-85b8071a63b6",
        "colab": {
          "base_uri": "https://localhost:8080/",
          "height": 399
        }
      },
      "source": [
        "from keras.models import Sequential\n",
        "from keras.layers import Conv2D, Dense, Flatten, Permute\n",
        "\n",
        "FRAME_SHAPE = (84, 84) #This is the down-sized shape of the input frame\n",
        "WINDOW_LENGTH = 4 #The number specifies the number of frames the model will consider to make it decision\n",
        "input_shape = (WINDOW_LENGTH,) + FRAME_SHAPE #The input shape of our model\n",
        "\n",
        "model = Sequential()\n",
        "model.add(Permute((2, 3, 1), input_shape=input_shape))\n",
        "model.add(Conv2D(32, (8, 8), strides=(4, 4), activation = 'relu'))\n",
        "model.add(Conv2D(64, (4, 4), strides=(2, 2), activation = 'relu'))\n",
        "model.add(Conv2D(64, (3, 3), strides=(1, 1), activation = 'relu'))\n",
        "model.add(Flatten())\n",
        "model.add(Dense(512, activation = 'relu'))\n",
        "model.add(Dense(nb_actions, activation = 'linear'))\n",
        " \n",
        "print(model.summary())\n"
      ],
      "execution_count": 0,
      "outputs": [
        {
          "output_type": "stream",
          "text": [
            "_________________________________________________________________\n",
            "Layer (type)                 Output Shape              Param #   \n",
            "=================================================================\n",
            "permute_3 (Permute)          (None, 84, 84, 4)         0         \n",
            "_________________________________________________________________\n",
            "conv2d_7 (Conv2D)            (None, 20, 20, 32)        8224      \n",
            "_________________________________________________________________\n",
            "conv2d_8 (Conv2D)            (None, 9, 9, 64)          32832     \n",
            "_________________________________________________________________\n",
            "conv2d_9 (Conv2D)            (None, 7, 7, 64)          36928     \n",
            "_________________________________________________________________\n",
            "flatten_3 (Flatten)          (None, 3136)              0         \n",
            "_________________________________________________________________\n",
            "dense_5 (Dense)              (None, 512)               1606144   \n",
            "_________________________________________________________________\n",
            "dense_6 (Dense)              (None, 3)                 1539      \n",
            "=================================================================\n",
            "Total params: 1,685,667\n",
            "Trainable params: 1,685,667\n",
            "Non-trainable params: 0\n",
            "_________________________________________________________________\n",
            "None\n"
          ],
          "name": "stdout"
        }
      ]
    },
    {
      "cell_type": "markdown",
      "metadata": {
        "id": "qbrrR2UDG4Ik",
        "colab_type": "text"
      },
      "source": [
        "#3. Initializing DQN model\n",
        "In the following code the following methods are defined:\n",
        "1. AtariProcessor() method is used to pre-process every frame\n",
        "2. save_at_episode() is used to save model weight after a fixed number of episode\n",
        "\n",
        "Then the DQN model is initalized with the parameters shown below."
      ]
    },
    {
      "cell_type": "code",
      "metadata": {
        "id": "rRzBXvwd-x8D",
        "colab_type": "code",
        "colab": {}
      },
      "source": [
        "from PIL import Image\n",
        "from keras.optimizers import Adam\n",
        "from keras.callbacks import Callback\n",
        "from rl.agents.dqn import DQNAgent\n",
        "from rl.policy import LinearAnnealedPolicy, EpsGreedyQPolicy\n",
        "from rl.memory import SequentialMemory\n",
        "from rl.core import Processor\n",
        "\n",
        "SAVE_AFTER_EPISODE = 50\n",
        "\n",
        "class AtariProcessor(Processor):\n",
        "    def process_observation(self, observation):\n",
        "        assert observation.ndim == 3  # (height, width, channel)\n",
        "        img = Image.fromarray(observation)\n",
        "        img = img.resize(FRAME_SHAPE).convert('L')  # resize and convert to grayscale\n",
        "        processed_observation = np.array(img)\n",
        "        assert processed_observation.shape == FRAME_SHAPE\n",
        "        return processed_observation.astype('float32')/255 \n",
        "\n",
        "class save_at_episode(Callback):\n",
        "    def on_episode_end(self, episode, logs={}):\n",
        "      if(episode%SAVE_AFTER_EPISODE == 0):\n",
        "        self.model.save_weights('DQN_'+game+'_episode_{}_weights'.format(episode), overwrite=True)\n",
        "        print(\" saved episode:{}\".format(episode))\n",
        "\n",
        "memory = SequentialMemory(limit=500000, window_length=WINDOW_LENGTH) #This is the memory the model will use to remember past experiences\n",
        "processor = AtariProcessor() #passing the pre-processor to resize and convert images\n",
        "nb_steps = 100000 #Number of Training Steps\n",
        "lr = 0.00025 #Learning Rate\n",
        "policy = LinearAnnealedPolicy(EpsGreedyQPolicy(), attr='eps', value_max=1., value_min=.1, value_test=.05, nb_steps=nb_steps) #This policy will balance between exploration and exploitaion\n",
        "\n",
        "dqn = DQNAgent(model=model, \n",
        "               nb_actions=nb_actions, \n",
        "               policy=policy, \n",
        "               memory=memory, \n",
        "               processor=processor, \n",
        "               nb_steps_warmup=10000, #The number of random steps in the begining of training.\n",
        "               target_model_update=10000, #The model weights will be updated after these many steps\n",
        "               train_interval=WINDOW_LENGTH) #Q-Values and Model Training will occur once for the number of steps in this parameter\n",
        "\n",
        "dqn.compile(Adam(lr=lr), metrics=['mae'])"
      ],
      "execution_count": 0,
      "outputs": []
    },
    {
      "cell_type": "markdown",
      "metadata": {
        "id": "c5DM12FCHwTb",
        "colab_type": "text"
      },
      "source": [
        "#4. Model Training\n"
      ]
    },
    {
      "cell_type": "code",
      "metadata": {
        "id": "ArEWYWLFApl1",
        "colab_type": "code",
        "outputId": "2000e630-ab95-44ae-df6c-b92227777578",
        "colab": {
          "base_uri": "https://localhost:8080/",
          "height": 728
        }
      },
      "source": [
        "dqn.fit(env, nb_steps=nb_steps, verbose=1, callbacks=[save_at_episode()])\n",
        "dqn.save_weights('DQN_'+game+'_{}steps_weights'.format(nb_steps),overwrite=True)"
      ],
      "execution_count": 0,
      "outputs": [
        {
          "output_type": "stream",
          "text": [
            "Training for 100000 steps ...\n",
            "Interval 1 (0 steps performed)\n",
            " 2731/10000 [=======>......................] - ETA: 30s - reward: 0.0000e+00 saved episode:0\n",
            "10000/10000 [==============================] - 43s 4ms/step - reward: 0.0000e+00\n",
            "3 episodes - episode_reward: 0.000 [0.000, 0.000] - ale.lives: 0.000\n",
            "\n",
            "Interval 2 (10000 steps performed)\n",
            "10000/10000 [==============================] - 113s 11ms/step - reward: 0.0000e+00\n",
            "4 episodes - episode_reward: 0.000 [0.000, 0.000] - loss: 0.000 - mean_absolute_error: 0.025 - mean_q: 0.029 - mean_eps: 0.865 - ale.lives: 0.000\n",
            "\n",
            "Interval 3 (20000 steps performed)\n",
            "10000/10000 [==============================] - 107s 11ms/step - reward: 1.0000e-04\n",
            "3 episodes - episode_reward: 0.333 [0.000, 1.000] - loss: 0.000 - mean_absolute_error: 0.031 - mean_q: 0.047 - mean_eps: 0.775 - ale.lives: 0.000\n",
            "\n",
            "Interval 4 (30000 steps performed)\n",
            "10000/10000 [==============================] - 117s 12ms/step - reward: 3.0000e-04\n",
            "4 episodes - episode_reward: 0.750 [0.000, 2.000] - loss: 0.000 - mean_absolute_error: 0.031 - mean_q: 0.047 - mean_eps: 0.685 - ale.lives: 0.000\n",
            "\n",
            "Interval 5 (40000 steps performed)\n",
            "10000/10000 [==============================] - 107s 11ms/step - reward: 1.0000e-03\n",
            "4 episodes - episode_reward: 2.250 [0.000, 6.000] - loss: 0.000 - mean_absolute_error: 0.031 - mean_q: 0.047 - mean_eps: 0.595 - ale.lives: 0.000\n",
            "\n",
            "Interval 6 (50000 steps performed)\n",
            "10000/10000 [==============================] - 114s 11ms/step - reward: 0.0017\n",
            "3 episodes - episode_reward: 3.000 [1.000, 6.000] - loss: 0.000 - mean_absolute_error: 0.031 - mean_q: 0.047 - mean_eps: 0.505 - ale.lives: 0.000\n",
            "\n",
            "Interval 7 (60000 steps performed)\n",
            "10000/10000 [==============================] - 106s 11ms/step - reward: 0.0037\n",
            "4 episodes - episode_reward: 10.000 [9.000, 11.000] - loss: 0.000 - mean_absolute_error: 0.034 - mean_q: 0.052 - mean_eps: 0.415 - ale.lives: 0.000\n",
            "\n",
            "Interval 8 (70000 steps performed)\n",
            "10000/10000 [==============================] - 115s 12ms/step - reward: 0.0045\n",
            "4 episodes - episode_reward: 12.250 [9.000, 15.000] - loss: 0.001 - mean_absolute_error: 0.034 - mean_q: 0.052 - mean_eps: 0.325 - ale.lives: 0.000\n",
            "\n",
            "Interval 9 (80000 steps performed)\n",
            "10000/10000 [==============================] - 107s 11ms/step - reward: 0.0057\n",
            "3 episodes - episode_reward: 15.667 [14.000, 17.000] - loss: 0.001 - mean_absolute_error: 0.038 - mean_q: 0.057 - mean_eps: 0.235 - ale.lives: 0.000\n",
            "\n",
            "Interval 10 (90000 steps performed)\n",
            "10000/10000 [==============================] - 112s 11ms/step - reward: 0.0073\n",
            "done, took 1040.368 seconds\n"
          ],
          "name": "stdout"
        }
      ]
    },
    {
      "cell_type": "markdown",
      "metadata": {
        "id": "z4cqOO5AH9Gi",
        "colab_type": "text"
      },
      "source": [
        "#5. Model Testing\n",
        "Model is evaluated based on the average reward over 100 episode\n",
        "\n",
        "To view the game change visualize to True (This will not work in google collab) \n"
      ]
    },
    {
      "cell_type": "code",
      "metadata": {
        "id": "GFy7KbhnEfIO",
        "colab_type": "code",
        "outputId": "a7bc79bb-ef0b-4e5b-c2ff-2d77ffa4f07c",
        "colab": {
          "base_uri": "https://localhost:8080/",
          "height": 1000
        }
      },
      "source": [
        "from statistics import mean\n",
        "dqn.load_weights('DQN_'+game+'_{}steps_weights'.format(nb_steps)) #load the weight of the model that needs to be evaluated\n",
        "history = dqn.test(env, nb_episodes=100, visualize=False)\n",
        "mean_score = mean(history.history['episode_reward'])\n",
        "print(\"100 Episode Average Score: {}\".format(mean_score)) #compute mean score over 100 episode"
      ],
      "execution_count": 0,
      "outputs": [
        {
          "output_type": "stream",
          "text": [
            "Testing for 100 episodes ...\n",
            "Episode 1: reward: 21.000, steps: 2746\n",
            "Episode 2: reward: 21.000, steps: 2724\n",
            "Episode 3: reward: 21.000, steps: 2752\n",
            "Episode 4: reward: 21.000, steps: 2724\n",
            "Episode 5: reward: 21.000, steps: 2737\n",
            "Episode 6: reward: 21.000, steps: 2728\n",
            "Episode 7: reward: 21.000, steps: 2730\n",
            "Episode 8: reward: 21.000, steps: 2704\n",
            "Episode 9: reward: 21.000, steps: 2748\n",
            "Episode 10: reward: 21.000, steps: 2702\n",
            "Episode 11: reward: 21.000, steps: 2732\n",
            "Episode 12: reward: 24.000, steps: 2702\n",
            "Episode 13: reward: 24.000, steps: 2716\n",
            "Episode 14: reward: 21.000, steps: 2728\n",
            "Episode 15: reward: 21.000, steps: 2741\n",
            "Episode 16: reward: 21.000, steps: 2721\n",
            "Episode 17: reward: 24.000, steps: 2702\n",
            "Episode 18: reward: 24.000, steps: 2731\n",
            "Episode 19: reward: 21.000, steps: 2733\n",
            "Episode 20: reward: 24.000, steps: 2726\n",
            "Episode 21: reward: 21.000, steps: 2741\n",
            "Episode 22: reward: 21.000, steps: 2724\n",
            "Episode 23: reward: 21.000, steps: 2702\n",
            "Episode 24: reward: 21.000, steps: 2732\n",
            "Episode 25: reward: 21.000, steps: 2758\n",
            "Episode 26: reward: 21.000, steps: 2704\n",
            "Episode 27: reward: 21.000, steps: 2729\n",
            "Episode 28: reward: 21.000, steps: 2714\n",
            "Episode 29: reward: 21.000, steps: 2756\n",
            "Episode 30: reward: 21.000, steps: 2734\n",
            "Episode 31: reward: 24.000, steps: 2777\n",
            "Episode 32: reward: 21.000, steps: 2706\n",
            "Episode 33: reward: 24.000, steps: 2734\n",
            "Episode 34: reward: 21.000, steps: 2734\n",
            "Episode 35: reward: 21.000, steps: 2750\n",
            "Episode 36: reward: 21.000, steps: 2717\n",
            "Episode 37: reward: 21.000, steps: 2739\n",
            "Episode 38: reward: 21.000, steps: 2708\n",
            "Episode 39: reward: 21.000, steps: 2715\n",
            "Episode 40: reward: 21.000, steps: 2728\n",
            "Episode 41: reward: 21.000, steps: 2732\n",
            "Episode 42: reward: 24.000, steps: 2739\n",
            "Episode 43: reward: 21.000, steps: 2758\n",
            "Episode 44: reward: 24.000, steps: 2727\n",
            "Episode 45: reward: 21.000, steps: 2710\n",
            "Episode 46: reward: 21.000, steps: 2734\n",
            "Episode 47: reward: 21.000, steps: 2759\n",
            "Episode 48: reward: 21.000, steps: 2767\n",
            "Episode 49: reward: 24.000, steps: 2746\n",
            "Episode 50: reward: 24.000, steps: 2756\n",
            "Episode 51: reward: 21.000, steps: 2736\n",
            "Episode 52: reward: 21.000, steps: 2730\n",
            "Episode 53: reward: 21.000, steps: 2726\n",
            "Episode 54: reward: 21.000, steps: 2714\n",
            "Episode 55: reward: 21.000, steps: 2730\n",
            "Episode 56: reward: 21.000, steps: 2720\n",
            "Episode 57: reward: 21.000, steps: 2728\n",
            "Episode 58: reward: 21.000, steps: 2717\n",
            "Episode 59: reward: 21.000, steps: 2740\n",
            "Episode 60: reward: 21.000, steps: 2716\n",
            "Episode 61: reward: 24.000, steps: 2752\n",
            "Episode 62: reward: 24.000, steps: 2750\n",
            "Episode 63: reward: 21.000, steps: 2701\n",
            "Episode 64: reward: 24.000, steps: 2710\n",
            "Episode 65: reward: 21.000, steps: 2734\n",
            "Episode 66: reward: 24.000, steps: 2740\n",
            "Episode 67: reward: 21.000, steps: 2723\n",
            "Episode 68: reward: 21.000, steps: 2710\n",
            "Episode 69: reward: 21.000, steps: 2724\n",
            "Episode 70: reward: 24.000, steps: 2767\n",
            "Episode 71: reward: 21.000, steps: 2732\n",
            "Episode 72: reward: 24.000, steps: 2753\n",
            "Episode 73: reward: 21.000, steps: 2732\n",
            "Episode 74: reward: 24.000, steps: 2715\n",
            "Episode 75: reward: 21.000, steps: 2721\n",
            "Episode 76: reward: 24.000, steps: 2705\n",
            "Episode 77: reward: 21.000, steps: 2731\n",
            "Episode 78: reward: 24.000, steps: 2726\n",
            "Episode 79: reward: 21.000, steps: 2714\n",
            "Episode 80: reward: 21.000, steps: 2697\n",
            "Episode 81: reward: 21.000, steps: 2743\n",
            "Episode 82: reward: 21.000, steps: 2749\n",
            "Episode 83: reward: 21.000, steps: 2731\n",
            "Episode 84: reward: 24.000, steps: 2765\n",
            "Episode 85: reward: 21.000, steps: 2741\n",
            "Episode 86: reward: 21.000, steps: 2720\n",
            "Episode 87: reward: 24.000, steps: 2735\n",
            "Episode 88: reward: 21.000, steps: 2722\n",
            "Episode 89: reward: 21.000, steps: 2720\n",
            "Episode 90: reward: 24.000, steps: 2744\n",
            "Episode 91: reward: 21.000, steps: 2684\n",
            "Episode 92: reward: 24.000, steps: 2715\n",
            "Episode 93: reward: 21.000, steps: 2699\n",
            "Episode 94: reward: 21.000, steps: 2738\n",
            "Episode 95: reward: 21.000, steps: 2735\n",
            "Episode 96: reward: 21.000, steps: 2732\n",
            "Episode 97: reward: 21.000, steps: 2724\n",
            "Episode 98: reward: 21.000, steps: 2714\n",
            "Episode 99: reward: 24.000, steps: 2736\n",
            "Episode 100: reward: 21.000, steps: 2712\n",
            "100 Episode Average Score: 21.75\n"
          ],
          "name": "stdout"
        }
      ]
    },
    {
      "cell_type": "code",
      "metadata": {
        "id": "ofgEriQNNQP7",
        "colab_type": "code",
        "colab": {}
      },
      "source": [
        ""
      ],
      "execution_count": 0,
      "outputs": []
    }
  ]
}